{
  "nbformat": 4,
  "nbformat_minor": 0,
  "metadata": {
    "colab": {
      "name": "timeseries_anomaly_detection",
      "provenance": [],
      "collapsed_sections": []
    },
    "kernelspec": {
      "display_name": "Python 3",
      "language": "python",
      "name": "python3"
    },
    "language_info": {
      "codemirror_mode": {
        "name": "ipython",
        "version": 3
      },
      "file_extension": ".py",
      "mimetype": "text/x-python",
      "name": "python",
      "nbconvert_exporter": "python",
      "pygments_lexer": "ipython3",
      "version": "3.7.0"
    },
    "accelerator": "GPU"
  },
  "cells": [
    {
      "cell_type": "markdown",
      "metadata": {
        "id": "n48qK4EjeHTY",
        "colab_type": "text"
      },
      "source": [
        "![임도형 커멘트](https://github.com/dhrim/keras_example_seminia_2020/raw/master/comment.png)\n",
        "\n",
        "# 개요\n",
        "\n",
        "- 원 본 : https://keras.io/examples/timeseries/timeseries_anomaly_detection/\n",
        "\n",
        "- 작업 : Anomaly Detection\n",
        "- 데이터 : 타임 시리즈 데이터. Kaggle NAB(Numenta Anomaly Benchmark), https://www.kaggle.com/boltzmannbrain/nab\n",
        "- 적용 모델 : AutoEncoder\n",
        "\n",
        "\n",
        "<br>\n",
        "\n",
        "# 특이 사항\n",
        "\n",
        "Kaggle의 데이터. 몇가지 다른 데이터도 있다.\n",
        "\n",
        "Kaggle의 데이터를 원 기사의 github에 올려두고 다운로드 받고 있다.\n",
        "\n",
        "- 데이터 홈 : https://www.kaggle.com/boltzmannbrain/nab\n",
        "- 다운로드 url : https://raw.githubusercontent.com/numenta/nab/master/data/artificialNoAnomaly/art_daily_small_noise.csv\n",
        "\n",
        "\n",
        "<br>\n",
        "\n",
        "# 모델\n",
        "\n",
        "1개의 데이터 인스턴스는 (288,)의 모양.\n",
        "\n",
        "이를 처리하는 모델은 1D Conv를 사용한 Conv AutoEncoder\n",
        "\n",
        "\n",
        "<br>\n",
        "\n",
        "# AutoEncoder를 사용한 이상 탐지\n",
        "\n",
        "AutoEncoder는 입력과 출력을 같은 것으로 하고, 중간 좁은 곳을 대칭으로 한 네트웤이다.\n",
        "\n",
        "입력보다 작은 곳을 통과해서도 입력과 같은 출력을 내려면, 데이터의 핵심만 압축된 정보를 갖고 있게 된다. \n",
        "[참고자료](https://www.kaggle.com/robinteuwens/anomaly-detection-with-auto-encoders)\n",
        "\n",
        "비정상 혹은 노이즈에 해당하는 부분은 제거되는 효과가 있다.\n",
        "\n",
        "모델 학습 후에 비정상 데이터가 입력되면 비정상이 제거된 원본이 출력된다.\n",
        "\n",
        "입력과 출력의 차이를 구해서 비정상 여부를 탐지할 수 있다.\n"
      ]
    },
    {
      "cell_type": "markdown",
      "metadata": {
        "colab_type": "text",
        "id": "SvN_oII1eCus"
      },
      "source": [
        "# Timeseries anomaly detection using an Autoencoder\n",
        "\n",
        "**Author:** [pavithrasv](https://github.com/pavithrasv)<br>\n",
        "**Date created:** 2020/05/31<br>\n",
        "**Last modified:** 2020/05/31<br>\n",
        "**Description:** Detect anomalies in a timeseries using an Autoencoder."
      ]
    },
    {
      "cell_type": "markdown",
      "metadata": {
        "colab_type": "text",
        "id": "cmsW8wKmeCuv"
      },
      "source": [
        "## Introduction\n",
        "\n",
        "This script demonstrates how you can use a reconstruction convolutional\n",
        "autoencoder model to detect anomalies in timeseries data."
      ]
    },
    {
      "cell_type": "markdown",
      "metadata": {
        "colab_type": "text",
        "id": "QTXG9cUGeCuw"
      },
      "source": [
        "## Setup"
      ]
    },
    {
      "cell_type": "code",
      "metadata": {
        "colab_type": "code",
        "id": "E_iR9ZLSeCuy",
        "colab": {}
      },
      "source": [
        "import numpy as np\n",
        "import pandas as pd\n",
        "from tensorflow import keras\n",
        "from tensorflow.keras import layers\n",
        "from matplotlib import pyplot as plt"
      ],
      "execution_count": 43,
      "outputs": []
    },
    {
      "cell_type": "markdown",
      "metadata": {
        "colab_type": "text",
        "id": "yF35wEDjeCu3"
      },
      "source": [
        "## Load the data\n",
        "\n",
        "We will use the [Numenta Anomaly Benchmark(NAB)](\n",
        "https://www.kaggle.com/boltzmannbrain/nab) dataset. It provides artifical\n",
        "timeseries data containing labeled anomalous periods of behavior. Data are\n",
        "ordered, timestamped, single-valued metrics.\n",
        "\n",
        "We will use the `art_daily_small_noise.csv` file for training and the\n",
        "`art_daily_jumpsup.csv` file for testing. The simplicity of this dataset\n",
        "allows us to demonstrate anomaly detection effectively."
      ]
    },
    {
      "cell_type": "code",
      "metadata": {
        "colab_type": "code",
        "id": "bZCdW5RNeCu3",
        "colab": {}
      },
      "source": [
        "master_url_root = \"https://raw.githubusercontent.com/numenta/NAB/master/data/\"\n",
        "\n",
        "df_small_noise_url_suffix = \"artificialNoAnomaly/art_daily_small_noise.csv\"\n",
        "df_small_noise_url = master_url_root + df_small_noise_url_suffix\n",
        "df_small_noise = pd.read_csv(\n",
        "    df_small_noise_url, parse_dates=True, index_col=\"timestamp\"\n",
        ")\n",
        "\n",
        "df_daily_jumpsup_url_suffix = \"artificialWithAnomaly/art_daily_jumpsup.csv\"\n",
        "df_daily_jumpsup_url = master_url_root + df_daily_jumpsup_url_suffix\n",
        "df_daily_jumpsup = pd.read_csv(\n",
        "    df_daily_jumpsup_url, parse_dates=True, index_col=\"timestamp\"\n",
        ")"
      ],
      "execution_count": 44,
      "outputs": []
    },
    {
      "cell_type": "markdown",
      "metadata": {
        "colab_type": "text",
        "id": "BHe89047eCu7"
      },
      "source": [
        "## Quick look at the data"
      ]
    },
    {
      "cell_type": "code",
      "metadata": {
        "colab_type": "code",
        "id": "1GXxevDFeCu7",
        "colab": {
          "base_uri": "https://localhost:8080/",
          "height": 269
        },
        "outputId": "c55f0763-336f-42b2-c477-bb90652805e8"
      },
      "source": [
        "print(df_small_noise.head())\n",
        "\n",
        "print(df_daily_jumpsup.head())"
      ],
      "execution_count": 45,
      "outputs": [
        {
          "output_type": "stream",
          "text": [
            "                         value\n",
            "timestamp                     \n",
            "2014-04-01 00:00:00  18.324919\n",
            "2014-04-01 00:05:00  21.970327\n",
            "2014-04-01 00:10:00  18.624806\n",
            "2014-04-01 00:15:00  21.953684\n",
            "2014-04-01 00:20:00  21.909120\n",
            "                         value\n",
            "timestamp                     \n",
            "2014-04-01 00:00:00  19.761252\n",
            "2014-04-01 00:05:00  20.500833\n",
            "2014-04-01 00:10:00  19.961641\n",
            "2014-04-01 00:15:00  21.490266\n",
            "2014-04-01 00:20:00  20.187739\n"
          ],
          "name": "stdout"
        }
      ]
    },
    {
      "cell_type": "markdown",
      "metadata": {
        "colab_type": "text",
        "id": "JNTZehJ4eCu_"
      },
      "source": [
        "## Visualize the data\n",
        "### Timeseries data without anomalies\n",
        "\n",
        "We will use the following data for training."
      ]
    },
    {
      "cell_type": "code",
      "metadata": {
        "colab_type": "code",
        "id": "05YbyaUKeCu_",
        "colab": {
          "base_uri": "https://localhost:8080/",
          "height": 303
        },
        "outputId": "5a3f8696-29ef-4ac1-dccc-515397907591"
      },
      "source": [
        "fig, ax = plt.subplots()\n",
        "df_small_noise.plot(legend=False, ax=ax)\n",
        "plt.show()"
      ],
      "execution_count": 46,
      "outputs": [
        {
          "output_type": "display_data",
          "data": {
            "image/png": "[encoded data removed]",
            "text/plain": [
              "<Figure size 432x288 with 1 Axes>"
            ]
          },
          "metadata": {
            "tags": [],
            "needs_background": "light"
          }
        }
      ]
    },
    {
      "cell_type": "markdown",
      "metadata": {
        "colab_type": "text",
        "id": "1R06x5M_eCvC"
      },
      "source": [
        "### Timeseries data with anomalies\n",
        "\n",
        "We will use the following data for testing and see if the sudden jump up in the\n",
        "data is detected as an anomaly."
      ]
    },
    {
      "cell_type": "code",
      "metadata": {
        "colab_type": "code",
        "id": "OmqR3bASeCvD",
        "colab": {
          "base_uri": "https://localhost:8080/",
          "height": 303
        },
        "outputId": "d38c6b2f-8044-4457-f758-47365a48efe0"
      },
      "source": [
        "fig, ax = plt.subplots()\n",
        "df_daily_jumpsup.plot(legend=False, ax=ax)\n",
        "plt.show()"
      ],
      "execution_count": 47,
      "outputs": [
        {
          "output_type": "display_data",
          "data": {
            "image/png": "[encoded data removed]",
            "text/plain": [
              "<Figure size 432x288 with 1 Axes>"
            ]
          },
          "metadata": {
            "tags": [],
            "needs_background": "light"
          }
        }
      ]
    },
    {
      "cell_type": "markdown",
      "metadata": {
        "colab_type": "text",
        "id": "vKyUGkTPeCvH"
      },
      "source": [
        "## Prepare training data\n",
        "\n",
        "Get data values from the training timeseries data file and normalize the\n",
        "`value` data. We have a `value` for every 5 mins for 14 days.\n",
        "\n",
        "-   24 * 60 / 5 = **288 timesteps per day**\n",
        "-   288 * 14 = **4032 data points** in total"
      ]
    },
    {
      "cell_type": "markdown",
      "metadata": {
        "id": "IK40Yje5hy2_",
        "colab_type": "text"
      },
      "source": [
        "![임도형 커멘트](https://github.com/dhrim/keras_example_seminia_2020/raw/master/comment.png)\n",
        "\n",
        "평균을 0으로 표준편차를 1이 되도록 standardization을 실행"
      ]
    },
    {
      "cell_type": "code",
      "metadata": {
        "colab_type": "code",
        "id": "f7rFmEvWeCvH",
        "colab": {
          "base_uri": "https://localhost:8080/",
          "height": 35
        },
        "outputId": "ec81f366-61ff-4978-fc53-9f9b4e98b7ef"
      },
      "source": [
        "# Normalize and save the mean and std we get,\n",
        "# for normalizing test data.\n",
        "training_mean = df_small_noise.mean()\n",
        "training_std = df_small_noise.std()\n",
        "df_training_value = (df_small_noise - training_mean) / training_std\n",
        "print(\"Number of training samples:\", len(df_training_value))"
      ],
      "execution_count": 48,
      "outputs": [
        {
          "output_type": "stream",
          "text": [
            "Number of training samples: 4032\n"
          ],
          "name": "stdout"
        }
      ]
    },
    {
      "cell_type": "code",
      "metadata": {
        "id": "Wn9BQRHViFNq",
        "colab_type": "code",
        "colab": {
          "base_uri": "https://localhost:8080/",
          "height": 303
        },
        "outputId": "3c8936bf-387f-43e7-96d5-28f79f23ebc0"
      },
      "source": [
        "fig, ax = plt.subplots()\n",
        "df_training_value.plot(legend=False, ax=ax)\n",
        "plt.show()"
      ],
      "execution_count": 49,
      "outputs": [
        {
          "output_type": "display_data",
          "data": {
            "image/png": "[encoded data removed]",
            "text/plain": [
              "<Figure size 432x288 with 1 Axes>"
            ]
          },
          "metadata": {
            "tags": [],
            "needs_background": "light"
          }
        }
      ]
    },
    {
      "cell_type": "markdown",
      "metadata": {
        "colab_type": "text",
        "id": "agHfLFWyeCvL"
      },
      "source": [
        "### Create sequences\n",
        "Create sequences combining `TIME_STEPS` contiguous data values from the\n",
        "training data."
      ]
    },
    {
      "cell_type": "markdown",
      "metadata": {
        "id": "r5zIewypkeWk",
        "colab_type": "text"
      },
      "source": [
        "![임도형 커멘트](https://github.com/dhrim/keras_example_seminia_2020/raw/master/comment.png)\n",
        "\n",
        "TIME_STPES 288 길이의 sequence 데이터를 만듬.\n",
        "\n",
        "4032개 포인트의 원본 데이터로 길이 288의 데이터 3744개 만듬\n",
        "```\n",
        "1 2 3 4 5 6 . . . 288 289 290\n",
        "<------------------>           : 생성된 첫 번 째 시컨스\n",
        "  <------------------->        : 생성된 두 번 째 시컨스\n",
        "    <--------------------->    : 생성된 세 번 째 시컨스\n",
        "```\n",
        "\n"
      ]
    },
    {
      "cell_type": "code",
      "metadata": {
        "colab_type": "code",
        "id": "VaRIVCr8eCvM",
        "colab": {
          "base_uri": "https://localhost:8080/",
          "height": 35
        },
        "outputId": "6869d416-3e77-4137-e3af-d90a9aefaba8"
      },
      "source": [
        "TIME_STEPS = 288\n",
        "\n",
        "# Generated training sequences for use in the model.\n",
        "def create_sequences(values, time_steps=TIME_STEPS):\n",
        "    output = []\n",
        "    for i in range(len(values) - time_steps):\n",
        "        output.append(values[i : (i + time_steps)])\n",
        "    return np.stack(output)\n",
        "\n",
        "\n",
        "x_train = create_sequences(df_training_value.values)\n",
        "print(\"Training input shape: \", x_train.shape)"
      ],
      "execution_count": 50,
      "outputs": [
        {
          "output_type": "stream",
          "text": [
            "Training input shape:  (3744, 288, 1)\n"
          ],
          "name": "stdout"
        }
      ]
    },
    {
      "cell_type": "markdown",
      "metadata": {
        "colab_type": "text",
        "id": "hr3uXd5teCvP"
      },
      "source": [
        "## Build a model\n",
        "\n",
        "We will build a convolutional reconstruction autoencoder model. The model will\n",
        "take input of shape `(batch_size, sequence_length, num_features)` and return\n",
        "output of the same shape. In this case, `sequence_length` is 288 and\n",
        "`num_features` is 1."
      ]
    },
    {
      "cell_type": "markdown",
      "metadata": {
        "id": "ebxJceaBnQ2d",
        "colab_type": "text"
      },
      "source": [
        "![임도형 커멘트](https://github.com/dhrim/keras_example_seminia_2020/raw/master/comment.png)\n",
        "\n",
        "MaxPooling을 하지 않고 stride 2를 사용하여 사이즈를 줄인다.\n",
        "```\n",
        "288 -> 144 -> 72 -> 144 -> 288\n",
        "```\n",
        "\n",
        "Conv1DTranspose는 [UpSampling1D](https://keras.io/api/layers/reshaping_layers/up_sampling1d/) + Conv1D이다."
      ]
    },
    {
      "cell_type": "code",
      "metadata": {
        "colab_type": "code",
        "id": "nUc_iOdmeCvQ",
        "colab": {
          "base_uri": "https://localhost:8080/",
          "height": 413
        },
        "outputId": "e2ef7ece-2a32-4449-aea6-18ddec38adfa"
      },
      "source": [
        "model = keras.Sequential(\n",
        "    [\n",
        "        layers.Input(shape=(x_train.shape[1], x_train.shape[2])), # (288, 1)\n",
        "        layers.Conv1D(filters=32, kernel_size=7, padding=\"same\", strides=2, activation=\"relu\"),\n",
        "        layers.Dropout(rate=0.2),\n",
        "        layers.Conv1D(filters=16, kernel_size=7, padding=\"same\", strides=2, activation=\"relu\"),\n",
        "        layers.Conv1DTranspose(filters=16, kernel_size=7, padding=\"same\", strides=2, activation=\"relu\"),\n",
        "        layers.Dropout(rate=0.2),\n",
        "        layers.Conv1DTranspose(filters=32, kernel_size=7, padding=\"same\", strides=2, activation=\"relu\"),\n",
        "        layers.Conv1DTranspose(filters=1, kernel_size=7, padding=\"same\"),\n",
        "    ]\n",
        ")\n",
        "model.compile(optimizer=keras.optimizers.Adam(learning_rate=0.001), loss=\"mse\")\n",
        "model.summary()"
      ],
      "execution_count": 51,
      "outputs": [
        {
          "output_type": "stream",
          "text": [
            "Model: \"sequential_9\"\n",
            "_________________________________________________________________\n",
            "Layer (type)                 Output Shape              Param #   \n",
            "=================================================================\n",
            "conv1d_18 (Conv1D)           (None, 144, 32)           256       \n",
            "_________________________________________________________________\n",
            "dropout_18 (Dropout)         (None, 144, 32)           0         \n",
            "_________________________________________________________________\n",
            "conv1d_19 (Conv1D)           (None, 72, 16)            3600      \n",
            "_________________________________________________________________\n",
            "conv1d_transpose_27 (Conv1DT (None, 144, 16)           1808      \n",
            "_________________________________________________________________\n",
            "dropout_19 (Dropout)         (None, 144, 16)           0         \n",
            "_________________________________________________________________\n",
            "conv1d_transpose_28 (Conv1DT (None, 288, 32)           3616      \n",
            "_________________________________________________________________\n",
            "conv1d_transpose_29 (Conv1DT (None, 288, 1)            225       \n",
            "=================================================================\n",
            "Total params: 9,505\n",
            "Trainable params: 9,505\n",
            "Non-trainable params: 0\n",
            "_________________________________________________________________\n"
          ],
          "name": "stdout"
        }
      ]
    },
    {
      "cell_type": "markdown",
      "metadata": {
        "colab_type": "text",
        "id": "mEUBt7u8eCvS"
      },
      "source": [
        "## Train the model\n",
        "\n",
        "Please note that we are using `x_train` as both the input and the target\n",
        "since this is a reconstruction model."
      ]
    },
    {
      "cell_type": "code",
      "metadata": {
        "colab_type": "code",
        "id": "OSVKSDM8eCvT",
        "colab": {
          "base_uri": "https://localhost:8080/",
          "height": 1000
        },
        "outputId": "45980321-f2e6-4f6a-aa85-84ff3850fe2f"
      },
      "source": [
        "history = model.fit(\n",
        "    x_train,\n",
        "    x_train,\n",
        "    epochs=50,\n",
        "    batch_size=128,\n",
        "    validation_split=0.1,\n",
        "    callbacks=[\n",
        "        keras.callbacks.EarlyStopping(monitor=\"val_loss\", patience=5, mode=\"min\")\n",
        "    ],\n",
        ")"
      ],
      "execution_count": 52,
      "outputs": [
        {
          "output_type": "stream",
          "text": [
            "Epoch 1/50\n",
            "27/27 [==============================] - 0s 12ms/step - loss: 0.6198 - val_loss: 0.0937\n",
            "Epoch 2/50\n",
            "27/27 [==============================] - 0s 7ms/step - loss: 0.0821 - val_loss: 0.0416\n",
            "Epoch 3/50\n",
            "27/27 [==============================] - 0s 6ms/step - loss: 0.0567 - val_loss: 0.0348\n",
            "Epoch 4/50\n",
            "27/27 [==============================] - 0s 7ms/step - loss: 0.0490 - val_loss: 0.0315\n",
            "Epoch 5/50\n",
            "27/27 [==============================] - 0s 6ms/step - loss: 0.0442 - val_loss: 0.0284\n",
            "Epoch 6/50\n",
            "27/27 [==============================] - 0s 6ms/step - loss: 0.0404 - val_loss: 0.0268\n",
            "Epoch 7/50\n",
            "27/27 [==============================] - 0s 6ms/step - loss: 0.0375 - val_loss: 0.0250\n",
            "Epoch 8/50\n",
            "27/27 [==============================] - 0s 6ms/step - loss: 0.0351 - val_loss: 0.0235\n",
            "Epoch 9/50\n",
            "27/27 [==============================] - 0s 6ms/step - loss: 0.0330 - val_loss: 0.0217\n",
            "Epoch 10/50\n",
            "27/27 [==============================] - 0s 6ms/step - loss: 0.0308 - val_loss: 0.0210\n",
            "Epoch 11/50\n",
            "27/27 [==============================] - 0s 6ms/step - loss: 0.0290 - val_loss: 0.0202\n",
            "Epoch 12/50\n",
            "27/27 [==============================] - 0s 6ms/step - loss: 0.0273 - val_loss: 0.0187\n",
            "Epoch 13/50\n",
            "27/27 [==============================] - 0s 6ms/step - loss: 0.0258 - val_loss: 0.0184\n",
            "Epoch 14/50\n",
            "27/27 [==============================] - 0s 6ms/step - loss: 0.0243 - val_loss: 0.0184\n",
            "Epoch 15/50\n",
            "27/27 [==============================] - 0s 6ms/step - loss: 0.0233 - val_loss: 0.0185\n",
            "Epoch 16/50\n",
            "27/27 [==============================] - 0s 6ms/step - loss: 0.0223 - val_loss: 0.0179\n",
            "Epoch 17/50\n",
            "27/27 [==============================] - 0s 6ms/step - loss: 0.0213 - val_loss: 0.0173\n",
            "Epoch 18/50\n",
            "27/27 [==============================] - 0s 6ms/step - loss: 0.0205 - val_loss: 0.0168\n",
            "Epoch 19/50\n",
            "27/27 [==============================] - 0s 6ms/step - loss: 0.0197 - val_loss: 0.0178\n",
            "Epoch 20/50\n",
            "27/27 [==============================] - 0s 6ms/step - loss: 0.0189 - val_loss: 0.0174\n",
            "Epoch 21/50\n",
            "27/27 [==============================] - 0s 6ms/step - loss: 0.0181 - val_loss: 0.0177\n",
            "Epoch 22/50\n",
            "27/27 [==============================] - 0s 6ms/step - loss: 0.0173 - val_loss: 0.0166\n",
            "Epoch 23/50\n",
            "27/27 [==============================] - 0s 6ms/step - loss: 0.0166 - val_loss: 0.0165\n",
            "Epoch 24/50\n",
            "27/27 [==============================] - 0s 6ms/step - loss: 0.0160 - val_loss: 0.0157\n",
            "Epoch 25/50\n",
            "27/27 [==============================] - 0s 6ms/step - loss: 0.0153 - val_loss: 0.0140\n",
            "Epoch 26/50\n",
            "27/27 [==============================] - 0s 6ms/step - loss: 0.0148 - val_loss: 0.0146\n",
            "Epoch 27/50\n",
            "27/27 [==============================] - 0s 6ms/step - loss: 0.0143 - val_loss: 0.0138\n",
            "Epoch 28/50\n",
            "27/27 [==============================] - 0s 6ms/step - loss: 0.0137 - val_loss: 0.0135\n",
            "Epoch 29/50\n",
            "27/27 [==============================] - 0s 6ms/step - loss: 0.0132 - val_loss: 0.0123\n",
            "Epoch 30/50\n",
            "27/27 [==============================] - 0s 6ms/step - loss: 0.0128 - val_loss: 0.0122\n",
            "Epoch 31/50\n",
            "27/27 [==============================] - 0s 6ms/step - loss: 0.0124 - val_loss: 0.0122\n",
            "Epoch 32/50\n",
            "27/27 [==============================] - 0s 6ms/step - loss: 0.0119 - val_loss: 0.0118\n",
            "Epoch 33/50\n",
            "27/27 [==============================] - 0s 6ms/step - loss: 0.0115 - val_loss: 0.0118\n",
            "Epoch 34/50\n",
            "27/27 [==============================] - 0s 6ms/step - loss: 0.0112 - val_loss: 0.0114\n",
            "Epoch 35/50\n",
            "27/27 [==============================] - 0s 6ms/step - loss: 0.0108 - val_loss: 0.0111\n",
            "Epoch 36/50\n",
            "27/27 [==============================] - 0s 6ms/step - loss: 0.0105 - val_loss: 0.0109\n",
            "Epoch 37/50\n",
            "27/27 [==============================] - 0s 6ms/step - loss: 0.0102 - val_loss: 0.0104\n",
            "Epoch 38/50\n",
            "27/27 [==============================] - 0s 6ms/step - loss: 0.0099 - val_loss: 0.0108\n",
            "Epoch 39/50\n",
            "27/27 [==============================] - 0s 6ms/step - loss: 0.0096 - val_loss: 0.0102\n",
            "Epoch 40/50\n",
            "27/27 [==============================] - 0s 6ms/step - loss: 0.0093 - val_loss: 0.0105\n",
            "Epoch 41/50\n",
            "27/27 [==============================] - 0s 6ms/step - loss: 0.0091 - val_loss: 0.0091\n",
            "Epoch 42/50\n",
            "27/27 [==============================] - 0s 6ms/step - loss: 0.0089 - val_loss: 0.0100\n",
            "Epoch 43/50\n",
            "27/27 [==============================] - 0s 6ms/step - loss: 0.0086 - val_loss: 0.0085\n",
            "Epoch 44/50\n",
            "27/27 [==============================] - 0s 6ms/step - loss: 0.0084 - val_loss: 0.0087\n",
            "Epoch 45/50\n",
            "27/27 [==============================] - 0s 6ms/step - loss: 0.0082 - val_loss: 0.0083\n",
            "Epoch 46/50\n",
            "27/27 [==============================] - 0s 6ms/step - loss: 0.0080 - val_loss: 0.0073\n",
            "Epoch 47/50\n",
            "27/27 [==============================] - 0s 6ms/step - loss: 0.0078 - val_loss: 0.0076\n",
            "Epoch 48/50\n",
            "27/27 [==============================] - 0s 6ms/step - loss: 0.0076 - val_loss: 0.0075\n",
            "Epoch 49/50\n",
            "27/27 [==============================] - 0s 6ms/step - loss: 0.0074 - val_loss: 0.0071\n",
            "Epoch 50/50\n",
            "27/27 [==============================] - 0s 6ms/step - loss: 0.0073 - val_loss: 0.0076\n"
          ],
          "name": "stdout"
        }
      ]
    },
    {
      "cell_type": "markdown",
      "metadata": {
        "colab_type": "text",
        "id": "qRXz-4AIeCvW"
      },
      "source": [
        "Let's plot training and validation loss to see how the training went."
      ]
    },
    {
      "cell_type": "code",
      "metadata": {
        "colab_type": "code",
        "id": "-2nQBaNqeCvX",
        "colab": {
          "base_uri": "https://localhost:8080/",
          "height": 265
        },
        "outputId": "3cb80929-fc58-4fd9-b9a9-9f47eea18839"
      },
      "source": [
        "plt.plot(history.history[\"loss\"], label=\"Training Loss\")\n",
        "plt.plot(history.history[\"val_loss\"], label=\"Validation Loss\")\n",
        "plt.legend()\n",
        "plt.show()"
      ],
      "execution_count": 53,
      "outputs": [
        {
          "output_type": "display_data",
          "data": {
            "image/png": "[encoded data removed]",
            "text/plain": [
              "<Figure size 432x288 with 1 Axes>"
            ]
          },
          "metadata": {
            "tags": [],
            "needs_background": "light"
          }
        }
      ]
    },
    {
      "cell_type": "markdown",
      "metadata": {
        "colab_type": "text",
        "id": "KoQRrW7geCve"
      },
      "source": [
        "### Compare recontruction\n",
        "\n",
        "Just for fun, let's see how our model has recontructed the first sample.\n",
        "This is the 288 timesteps from day 1 of our training dataset."
      ]
    },
    {
      "cell_type": "markdown",
      "metadata": {
        "id": "RS_-s4E9owI-",
        "colab_type": "text"
      },
      "source": [
        "![임도형 커멘트](https://github.com/dhrim/keras_example_seminia_2020/raw/master/comment.png)\n",
        "\n",
        "원본 데이터와 출력되어 재생성된 데이터"
      ]
    },
    {
      "cell_type": "code",
      "metadata": {
        "colab_type": "code",
        "id": "W4kyStcQeCve",
        "colab": {
          "base_uri": "https://localhost:8080/",
          "height": 265
        },
        "outputId": "af814c8d-129f-46e9-ef9e-df4118cfde80"
      },
      "source": [
        "# Checking how the first sequence is learnt\n",
        "plt.plot(x_train[0])\n",
        "plt.plot(x_train_pred[0])\n",
        "plt.show()"
      ],
      "execution_count": 54,
      "outputs": [
        {
          "output_type": "display_data",
          "data": {
            "image/png": "[encoded data removed]",
            "text/plain": [
              "<Figure size 432x288 with 1 Axes>"
            ]
          },
          "metadata": {
            "tags": [],
            "needs_background": "light"
          }
        }
      ]
    },
    {
      "cell_type": "markdown",
      "metadata": {
        "colab_type": "text",
        "id": "ncPrYA1oeCva"
      },
      "source": [
        "## Detecting anomalies\n",
        "\n",
        "We will detect anomalies by determining how well our model can reconstruct\n",
        "the input data.\n",
        "\n",
        "\n",
        "1.   Find MAE loss on training samples.\n",
        "2.   Find max MAE loss value. This is the worst our model has performed trying\n",
        "to reconstruct a sample. We will make this the `threshold` for anomaly\n",
        "detection.\n",
        "3.   If the reconstruction loss for a sample is greater than this `threshold`\n",
        "value then we can infer that the model is seeing a pattern that it isn't\n",
        "familiar with. We will label this sample as an `anomaly`.\n"
      ]
    },
    {
      "cell_type": "markdown",
      "metadata": {
        "id": "a_BaKllSo7Rj",
        "colab_type": "text"
      },
      "source": [
        "![임도형 커멘트](https://github.com/dhrim/keras_example_seminia_2020/raw/master/comment.png)\n",
        "\n",
        "원 본과 출력된 본과의 차이를 구한다.\n",
        "\n",
        "차이의 최대값을 이후 이상 탐지의 임계값으로 사용한다."
      ]
    },
    {
      "cell_type": "code",
      "metadata": {
        "colab_type": "code",
        "id": "0cnf8wryeCva",
        "colab": {
          "base_uri": "https://localhost:8080/",
          "height": 297
        },
        "outputId": "3cc6a479-0689-4d5e-9211-16dfd70e77e8"
      },
      "source": [
        "# Get train MAE loss.\n",
        "x_train_pred = model.predict(x_train)\n",
        "train_mae_loss = np.mean(np.abs(x_train_pred - x_train), axis=1)\n",
        "\n",
        "plt.hist(train_mae_loss, bins=50)\n",
        "plt.xlabel(\"Train MAE loss\")\n",
        "plt.ylabel(\"No of samples\")\n",
        "plt.show()\n",
        "\n",
        "# Get reconstruction loss threshold.\n",
        "threshold = np.max(train_mae_loss)\n",
        "print(\"Reconstruction error threshold: \", threshold)"
      ],
      "execution_count": 55,
      "outputs": [
        {
          "output_type": "display_data",
          "data": {
            "image/png": "[encoded data removed]",
            "text/plain": [
              "<Figure size 432x288 with 1 Axes>"
            ]
          },
          "metadata": {
            "tags": [],
            "needs_background": "light"
          }
        },
        {
          "output_type": "stream",
          "text": [
            "Reconstruction error threshold:  0.07436229598630724\n"
          ],
          "name": "stdout"
        }
      ]
    },
    {
      "cell_type": "markdown",
      "metadata": {
        "colab_type": "text",
        "id": "kz2WQhr6eCvi"
      },
      "source": [
        "### Prepare test data"
      ]
    },
    {
      "cell_type": "code",
      "metadata": {
        "id": "z3dUx7ULpkDo",
        "colab_type": "code",
        "colab": {
          "base_uri": "https://localhost:8080/",
          "height": 321
        },
        "outputId": "df8a2f96-5f08-4375-f3f8-d4f63e91f13a"
      },
      "source": [
        "def normalize_test(values, mean, std):\n",
        "    values -= mean\n",
        "    values /= std\n",
        "    return values\n",
        "\n",
        "\n",
        "df_test_value = (df_daily_jumpsup - training_mean) / training_std\n",
        "fig, ax = plt.subplots()\n",
        "df_test_value.plot(legend=False, ax=ax)\n",
        "plt.show()\n",
        "\n",
        "# Create sequences from test values.\n",
        "x_test = create_sequences(df_test_value.values)\n",
        "print(\"Test input shape: \", x_test.shape)\n",
        "\n",
        "# Get test MAE loss.\n",
        "x_test_pred = model.predict(x_test)"
      ],
      "execution_count": 56,
      "outputs": [
        {
          "output_type": "display_data",
          "data": {
            "image/png": "[encoded data removed]",
            "text/plain": [
              "<Figure size 432x288 with 1 Axes>"
            ]
          },
          "metadata": {
            "tags": [],
            "needs_background": "light"
          }
        },
        {
          "output_type": "stream",
          "text": [
            "Test input shape:  (3744, 288, 1)\n"
          ],
          "name": "stdout"
        }
      ]
    },
    {
      "cell_type": "markdown",
      "metadata": {
        "id": "_sJxmMdCql-g",
        "colab_type": "text"
      },
      "source": [
        "### diff 구하기"
      ]
    },
    {
      "cell_type": "code",
      "metadata": {
        "id": "4ay1TvsKp6_x",
        "colab_type": "code",
        "colab": {
          "base_uri": "https://localhost:8080/",
          "height": 53
        },
        "outputId": "73d626bc-77e9-4712-d5e1-3384afb2a9ea"
      },
      "source": [
        "test_mae_loss = np.mean(np.abs(x_test_pred - x_test), axis=1)\n",
        "print(test_mae_loss.shape)\n",
        "\n",
        "test_mae_loss = test_mae_loss.reshape((-1)) # flatten과 동일하다.\n",
        "print(test_mae_loss.shape)"
      ],
      "execution_count": 57,
      "outputs": [
        {
          "output_type": "stream",
          "text": [
            "(3744, 1)\n",
            "(3744,)\n"
          ],
          "name": "stdout"
        }
      ]
    },
    {
      "cell_type": "markdown",
      "metadata": {
        "id": "ic6aElOkrhlE",
        "colab_type": "text"
      },
      "source": [
        "### 각 샘플들의 평균 diff 분포"
      ]
    },
    {
      "cell_type": "code",
      "metadata": {
        "colab_type": "code",
        "id": "Xew12VlWeCvi",
        "colab": {
          "base_uri": "https://localhost:8080/",
          "height": 279
        },
        "outputId": "0304cc3a-dcf0-4bd3-eb2a-a5a1f4baa624"
      },
      "source": [
        "plt.hist(test_mae_loss, bins=50)\n",
        "plt.xlabel(\"test MAE loss\")\n",
        "plt.ylabel(\"No of samples\")\n",
        "plt.show()"
      ],
      "execution_count": 58,
      "outputs": [
        {
          "output_type": "display_data",
          "data": {
            "image/png": "[encoded data removed]",
            "text/plain": [
              "<Figure size 432x288 with 1 Axes>"
            ]
          },
          "metadata": {
            "tags": [],
            "needs_background": "light"
          }
        }
      ]
    },
    {
      "cell_type": "markdown",
      "metadata": {
        "id": "6B-DrCYhtIyV",
        "colab_type": "text"
      },
      "source": [
        "![임도형 커멘트](https://github.com/dhrim/keras_example_seminia_2020/raw/master/comment.png)\n",
        "\n",
        "전체 3744 중에 438개의 diff가 임계값보다 컸다.\n",
        "\n",
        "임계값 보다 큰 여부가 anomalies에 담긴다."
      ]
    },
    {
      "cell_type": "code",
      "metadata": {
        "id": "uumK6ThaqiQX",
        "colab_type": "code",
        "colab": {
          "base_uri": "https://localhost:8080/",
          "height": 773
        },
        "outputId": "ae6a6532-ba0a-4eba-fd87-1fe6e3e5e554"
      },
      "source": [
        "# Detect all the samples which are anomalies.\n",
        "anomalies = test_mae_loss > threshold\n",
        "print(\"Number of anomaly samples: \", np.sum(anomalies))\n",
        "print(\"Indices of anomaly samples: \", np.where(anomalies))\n",
        "print(anomalies[:10])"
      ],
      "execution_count": 67,
      "outputs": [
        {
          "output_type": "stream",
          "text": [
            "Number of anomaly samples:  438\n",
            "Indices of anomaly samples:  (array([ 773,  774,  777,  781,  789,  790,  791,  792,  793,  794,  795,\n",
            "        797,  971,  973, 1370, 1654, 1941, 1942, 1943, 1944, 1945, 1946,\n",
            "       1947, 2121, 2122, 2123, 2125, 2129, 2137, 2518, 2520, 2521, 2522,\n",
            "       2696, 2698, 2699, 2700, 2701, 2702, 2703, 2704, 2705, 2706, 2707,\n",
            "       2708, 2709, 2710, 2711, 2712, 2713, 2714, 2715, 2716, 2717, 2718,\n",
            "       2719, 2720, 2721, 2722, 2723, 2724, 2725, 2726, 2727, 2728, 2729,\n",
            "       2730, 2731, 2732, 2733, 2734, 2735, 2736, 2737, 2738, 2739, 2740,\n",
            "       2741, 2742, 2743, 2744, 2745, 2746, 2747, 2748, 2749, 2750, 2751,\n",
            "       2752, 2753, 2754, 2755, 2756, 2757, 2758, 2759, 2760, 2761, 2762,\n",
            "       2763, 2764, 2765, 2766, 2767, 2768, 2769, 2770, 2771, 2772, 2773,\n",
            "       2774, 2775, 2776, 2777, 2778, 2779, 2780, 2781, 2782, 2783, 2784,\n",
            "       2785, 2786, 2787, 2788, 2789, 2790, 2791, 2792, 2793, 2794, 2795,\n",
            "       2796, 2797, 2798, 2799, 2800, 2801, 2802, 2803, 2804, 2805, 2806,\n",
            "       2807, 2808, 2809, 2810, 2811, 2812, 2813, 2814, 2815, 2816, 2817,\n",
            "       2818, 2819, 2820, 2821, 2822, 2823, 2824, 2825, 2826, 2827, 2828,\n",
            "       2829, 2830, 2831, 2832, 2833, 2834, 2835, 2836, 2837, 2838, 2839,\n",
            "       2840, 2841, 2842, 2843, 2844, 2845, 2846, 2847, 2848, 2849, 2850,\n",
            "       2851, 2852, 2853, 2854, 2855, 2856, 2857, 2858, 2859, 2860, 2861,\n",
            "       2862, 2863, 2864, 2865, 2866, 2867, 2868, 2869, 2870, 2871, 2872,\n",
            "       2873, 2874, 2875, 2876, 2877, 2878, 2879, 2880, 2881, 2882, 2883,\n",
            "       2884, 2885, 2886, 2887, 2888, 2889, 2890, 2891, 2892, 2893, 2894,\n",
            "       2895, 2896, 2897, 2898, 2899, 2900, 2901, 2902, 2903, 2904, 2905,\n",
            "       2906, 2907, 2908, 2909, 2910, 2911, 2912, 2913, 2914, 2915, 2916,\n",
            "       2917, 2918, 2919, 2920, 2921, 2922, 2923, 2924, 2925, 2926, 2927,\n",
            "       2928, 2929, 2930, 2931, 2932, 2933, 2934, 2935, 2936, 2937, 2938,\n",
            "       2939, 2940, 2941, 2942, 2943, 2944, 2945, 2946, 2947, 2948, 2949,\n",
            "       2950, 2951, 2952, 2953, 2954, 2955, 2956, 2957, 2958, 2959, 2960,\n",
            "       2961, 2962, 2963, 2964, 2965, 2966, 2967, 2968, 2969, 2970, 2971,\n",
            "       2972, 2973, 2974, 2975, 2976, 2977, 2978, 2979, 2980, 2981, 2982,\n",
            "       2983, 2984, 2985, 2986, 2987, 2988, 2989, 2990, 2991, 2992, 2993,\n",
            "       2994, 2995, 2996, 2997, 2998, 2999, 3000, 3001, 3002, 3003, 3004,\n",
            "       3005, 3006, 3007, 3008, 3009, 3010, 3011, 3012, 3013, 3014, 3015,\n",
            "       3016, 3017, 3018, 3019, 3020, 3021, 3022, 3023, 3024, 3025, 3026,\n",
            "       3027, 3028, 3029, 3030, 3031, 3032, 3033, 3034, 3035, 3036, 3037,\n",
            "       3038, 3039, 3040, 3041, 3042, 3043, 3044, 3045, 3046, 3047, 3048,\n",
            "       3049, 3050, 3051, 3052, 3053, 3054, 3055, 3056, 3057, 3058, 3059,\n",
            "       3060, 3061, 3062, 3063, 3064, 3065, 3066, 3067, 3068, 3069, 3070,\n",
            "       3071, 3072, 3073, 3074, 3075, 3076, 3077, 3078, 3079, 3080, 3081,\n",
            "       3082, 3083, 3084, 3085, 3086, 3087, 3088, 3089, 3090, 3091, 3092,\n",
            "       3093, 3094, 3095, 3096, 3097, 3098, 3099, 3100, 3101]),)\n",
            "[False False False False False False False False False False]\n"
          ],
          "name": "stdout"
        }
      ]
    },
    {
      "cell_type": "markdown",
      "metadata": {
        "colab_type": "text",
        "id": "qHLeMxwXeCvl"
      },
      "source": [
        "## Plot anomalies\n",
        "\n",
        "We now know the samples of the data which are anomalies. With this, we will\n",
        "find the corresponding `timestamps` from the original test data. We will be\n",
        "using the following method to do that:\n",
        "\n",
        "Let's say time_steps = 3 and we have 10 training values. Our `x_train` will\n",
        "look like this:\n",
        "\n",
        "- 0, 1, 2\n",
        "- 1, 2, 3\n",
        "- 2, 3, 4\n",
        "- 3, 4, 5\n",
        "- 4, 5, 6\n",
        "- 5, 6, 7\n",
        "- 6, 7, 8\n",
        "- 7, 8, 9\n",
        "\n",
        "All except the initial and the final time_steps-1 data values, will appear in\n",
        "`time_steps` number of samples. So, if we know that the samples\n",
        "[(3, 4, 5), (4, 5, 6), (5, 6, 7)] are anomalies, we can say that the data point\n",
        "5 is an anomaly."
      ]
    },
    {
      "cell_type": "markdown",
      "metadata": {
        "id": "akJ_nx46u9k5",
        "colab_type": "text"
      },
      "source": [
        "![임도형 커멘트](https://github.com/dhrim/keras_example_seminia_2020/raw/master/comment.png)\n",
        "\n",
        "특정 포인트를 포함한 sequence 전체가 anomal인 인덱스를 찾는다.\n",
        "\n",
        "anomalous_data_indices에 담긴다.\n",
        "\n",
        "```\n",
        "      x x x          \n",
        "x x x       x x\n",
        "<--->               : 0개\n",
        "  <--->             : 1개만\n",
        "    <--->           : 2개만\n",
        "       <--->        : 3개 전부다 anomal이다. 찾아짐\n",
        "          <--->     : 2개만.\n",
        "\n",
        "```"
      ]
    },
    {
      "cell_type": "code",
      "metadata": {
        "colab_type": "code",
        "id": "_FSjP-PVeCvl",
        "colab": {}
      },
      "source": [
        "# data i is an anomaly if samples [(i - timesteps + 1) to (i)] are anomalies\n",
        "anomalous_data_indices = []\n",
        "for data_idx in range(TIME_STEPS - 1, len(df_test_value) - TIME_STEPS + 1):\n",
        "    if np.all(anomalies[data_idx - TIME_STEPS + 1 : data_idx]):\n",
        "        anomalous_data_indices.append(data_idx)"
      ],
      "execution_count": 60,
      "outputs": []
    },
    {
      "cell_type": "markdown",
      "metadata": {
        "colab_type": "text",
        "id": "BUsfissLeCvp"
      },
      "source": [
        "Let's overlay the anomalies on the original test data plot."
      ]
    },
    {
      "cell_type": "code",
      "metadata": {
        "colab_type": "code",
        "id": "9WAF3sfceCvp",
        "colab": {
          "base_uri": "https://localhost:8080/",
          "height": 303
        },
        "outputId": "4fad64e0-e52b-4cf8-99a0-83f0cf0bc006"
      },
      "source": [
        "df_subset = df_daily_jumpsup.iloc[anomalous_data_indices]\n",
        "fig, ax = plt.subplots()\n",
        "df_daily_jumpsup.plot(legend=False, ax=ax)\n",
        "df_subset.plot(legend=False, ax=ax, color=\"r\")\n",
        "plt.show()"
      ],
      "execution_count": 61,
      "outputs": [
        {
          "output_type": "display_data",
          "data": {
            "image/png": "[encoded data removed]",
            "text/plain": [
              "<Figure size 432x288 with 1 Axes>"
            ]
          },
          "metadata": {
            "tags": [],
            "needs_background": "light"
          }
        }
      ]
    },
    {
      "cell_type": "code",
      "metadata": {
        "id": "9UjW-L0-r2mn",
        "colab_type": "code",
        "colab": {}
      },
      "source": [
        ""
      ],
      "execution_count": 61,
      "outputs": []
    }
  ]
}