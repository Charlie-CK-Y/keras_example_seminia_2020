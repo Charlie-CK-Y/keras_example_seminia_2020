{
  "nbformat": 4,
  "nbformat_minor": 0,
  "metadata": {
    "colab": {
      "name": "lstm_seq2seq.ipynb",
      "provenance": [],
      "collapsed_sections": []
    },
    "kernelspec": {
      "display_name": "Python 3",
      "language": "python",
      "name": "python3"
    },
    "language_info": {
      "codemirror_mode": {
        "name": "ipython",
        "version": 3
      },
      "file_extension": ".py",
      "mimetype": "text/x-python",
      "name": "python",
      "nbconvert_exporter": "python",
      "pygments_lexer": "ipython3",
      "version": "3.7.0"
    },
    "accelerator": "GPU"
  },
  "cells": [
    {
      "cell_type": "markdown",
      "metadata": {
        "id": "HkMHeXk_wcZ9",
        "colab_type": "text"
      },
      "source": [
        "![임도형 커멘트](https://github.com/dhrim/keras_example_seminia_2020/raw/master/comment.png)\n",
        "\n",
        "# 개요\n",
        "\n",
        "- 원 본 : https://keras.io/examples/nlp/lstm_seq2seq/\n",
        "\n",
        "- 작업 : seq to seq 예측\n",
        "- 데이터 : 영어-프랑스어 쌍 데이터. http://www.manythings.org/anki/\n",
        "\n",
        "- 적용 모델 : LSTM\n",
        "\n",
        "\n",
        "<br>\n",
        "\n",
        "# 특이점\n",
        "\n",
        "character 단위로 번역을 처리. 일반적으로 word 단위로 처리함.\n",
        "\n",
        "\n",
        "\n"
      ]
    },
    {
      "cell_type": "markdown",
      "metadata": {
        "colab_type": "text",
        "id": "PObBdpdUvxq6"
      },
      "source": [
        "# Character-level recurrent sequence-to-sequence model\n",
        "\n",
        "**Author:** [fchollet](https://twitter.com/fchollet)<br>\n",
        "**Date created:** 2017/09/29<br>\n",
        "**Last modified:** 2020/04/26<br>\n",
        "**Description:** Character-level recurrent sequence-to-sequence model."
      ]
    },
    {
      "cell_type": "markdown",
      "metadata": {
        "colab_type": "text",
        "id": "kPmC1tvMvxq9"
      },
      "source": [
        "## Introduction\n",
        "\n",
        "This example demonstrates how to implement a basic character-level\n",
        "recurrent sequence-to-sequence model. We apply it to translating\n",
        "short English sentences into short French sentences,\n",
        "character-by-character. Note that it is fairly unusual to\n",
        "do character-level machine translation, as word-level\n",
        "models are more common in this domain.\n",
        "\n",
        "**Summary of the algorithm**\n",
        "\n",
        "- We start with input sequences from a domain (e.g. English sentences)\n",
        "    and corresponding target sequences from another domain\n",
        "    (e.g. French sentences).\n",
        "- An encoder LSTM turns input sequences to 2 state vectors\n",
        "    (we keep the last LSTM state and discard the outputs).\n",
        "- A decoder LSTM is trained to turn the target sequences into\n",
        "    the same sequence but offset by one timestep in the future,\n",
        "    a training process called \"teacher forcing\" in this context.\n",
        "    It uses as initial state the state vectors from the encoder.\n",
        "    Effectively, the decoder learns to generate `targets[t+1...]`\n",
        "    given `targets[...t]`, conditioned on the input sequence.\n",
        "- In inference mode, when we want to decode unknown input sequences, we:\n",
        "    - Encode the input sequence into state vectors\n",
        "    - Start with a target sequence of size 1\n",
        "        (just the start-of-sequence character)\n",
        "    - Feed the state vectors and 1-char target sequence\n",
        "        to the decoder to produce predictions for the next character\n",
        "    - Sample the next character using these predictions\n",
        "        (we simply use argmax).\n",
        "    - Append the sampled character to the target sequence\n",
        "    - Repeat until we generate the end-of-sequence character or we\n",
        "        hit the character limit.\n"
      ]
    },
    {
      "cell_type": "markdown",
      "metadata": {
        "colab_type": "text",
        "id": "0P7agOLEvxq_"
      },
      "source": [
        "## Setup\n"
      ]
    },
    {
      "cell_type": "code",
      "metadata": {
        "colab_type": "code",
        "id": "ul4lsJfwvxrA",
        "colab": {}
      },
      "source": [
        "import numpy as np\n",
        "import tensorflow as tf\n",
        "from tensorflow import keras\n"
      ],
      "execution_count": 1,
      "outputs": []
    },
    {
      "cell_type": "markdown",
      "metadata": {
        "colab_type": "text",
        "id": "x7siRywIvxrJ"
      },
      "source": [
        "## Download the data\n"
      ]
    },
    {
      "cell_type": "code",
      "metadata": {
        "id": "atGkfRVvoqUQ",
        "colab_type": "code",
        "colab": {}
      },
      "source": [
        "!rm -rf fra-eng*"
      ],
      "execution_count": 2,
      "outputs": []
    },
    {
      "cell_type": "code",
      "metadata": {
        "colab_type": "code",
        "id": "Se9jbBV7vxrK",
        "colab": {
          "base_uri": "https://localhost:8080/",
          "height": 72
        },
        "outputId": "0b9e9009-fdcf-484a-eb10-a2b8702fe113"
      },
      "source": [
        "!!curl -O http://www.manythings.org/anki/fra-eng.zip\n",
        "!!unzip fra-eng.zip\n"
      ],
      "execution_count": 3,
      "outputs": [
        {
          "output_type": "execute_result",
          "data": {
            "text/plain": [
              "['Archive:  fra-eng.zip',\n",
              " '  inflating: _about.txt              ',\n",
              " '  inflating: fra.txt                 ']"
            ]
          },
          "metadata": {
            "tags": []
          },
          "execution_count": 3
        }
      ]
    },
    {
      "cell_type": "code",
      "metadata": {
        "id": "HQ_b42W0x5fd",
        "colab_type": "code",
        "colab": {
          "base_uri": "https://localhost:8080/",
          "height": 199
        },
        "outputId": "8fb90db0-de16-4a30-9322-fe498b4d77a2"
      },
      "source": [
        "%%shell\n",
        "head fra.txt"
      ],
      "execution_count": 4,
      "outputs": [
        {
          "output_type": "stream",
          "text": [
            "Go.\tVa !\tCC-BY 2.0 (France) Attribution: tatoeba.org #2877272 (CM) & #1158250 (Wittydev)\n",
            "Hi.\tSalut !\tCC-BY 2.0 (France) Attribution: tatoeba.org #538123 (CM) & #509819 (Aiji)\n",
            "Hi.\tSalut.\tCC-BY 2.0 (France) Attribution: tatoeba.org #538123 (CM) & #4320462 (gillux)\n",
            "Run!\tCours !\tCC-BY 2.0 (France) Attribution: tatoeba.org #906328 (papabear) & #906331 (sacredceltic)\n",
            "Run!\tCourez !\tCC-BY 2.0 (France) Attribution: tatoeba.org #906328 (papabear) & #906332 (sacredceltic)\n",
            "Who?\tQui ?\tCC-BY 2.0 (France) Attribution: tatoeba.org #2083030 (CK) & #4366796 (gillux)\n",
            "Wow!\tÇa alors !\tCC-BY 2.0 (France) Attribution: tatoeba.org #52027 (Zifre) & #374631 (zmoo)\n",
            "Fire!\tAu feu !\tCC-BY 2.0 (France) Attribution: tatoeba.org #1829639 (Spamster) & #4627939 (sacredceltic)\n",
            "Help!\tÀ l'aide !\tCC-BY 2.0 (France) Attribution: tatoeba.org #435084 (lukaszpp) & #128430 (sysko)\n",
            "Jump.\tSaute.\tCC-BY 2.0 (France) Attribution: tatoeba.org #631038 (Shishir) & #2416938 (Micsmithel)\n"
          ],
          "name": "stdout"
        },
        {
          "output_type": "execute_result",
          "data": {
            "text/plain": [
              ""
            ]
          },
          "metadata": {
            "tags": []
          },
          "execution_count": 4
        }
      ]
    },
    {
      "cell_type": "markdown",
      "metadata": {
        "colab_type": "text",
        "id": "Qy-P9841vxrQ"
      },
      "source": [
        "## Configuration\n"
      ]
    },
    {
      "cell_type": "code",
      "metadata": {
        "colab_type": "code",
        "id": "jLKZwE2dvxrR",
        "colab": {}
      },
      "source": [
        "batch_size = 64  # Batch size for training.\n",
        "epochs = 100  # Number of epochs to train for.\n",
        "latent_dim = 256  # Latent dimensionality of the encoding space.\n",
        "num_samples = 10000  # Number of samples to train on.\n",
        "# Path to the data txt file on disk.\n",
        "data_path = \"fra.txt\"\n"
      ],
      "execution_count": 5,
      "outputs": []
    },
    {
      "cell_type": "markdown",
      "metadata": {
        "colab_type": "text",
        "id": "DcwZdzg8vxrW"
      },
      "source": [
        "## Prepare the data\n"
      ]
    },
    {
      "cell_type": "code",
      "metadata": {
        "id": "XXI6Sd6rzWdT",
        "colab_type": "code",
        "colab": {
          "base_uri": "https://localhost:8080/",
          "height": 108
        },
        "outputId": "a65dd20d-c86a-4175-e4cf-cebbf7f8718d"
      },
      "source": [
        "# Vectorize the data.\n",
        "input_texts = []\n",
        "target_texts = []\n",
        "input_characters = set()\n",
        "target_characters = set()\n",
        "with open(data_path, \"r\", encoding=\"utf-8\") as f:\n",
        "    lines = f.read().split(\"\\n\")\n",
        "for line in lines[: min(num_samples, len(lines) - 1)]:\n",
        "    # line = 'Go.\tVa !\tCC-BY 2.0 (France) Attribution: tatoeba.org #2877272 (CM) & #1158250 (Wittydev)'\n",
        "\n",
        "    input_text, target_text, _ = line.split(\"\\t\")\n",
        "    # input_text = 'Go.'\n",
        "    # target_text = 'Va !'\n",
        "\n",
        "    # We use \"tab\" as the \"start sequence\" character\n",
        "    # for the targets, and \"\\n\" as \"end sequence\" character.\n",
        "    target_text = \"\\t\" + target_text + \"\\n\"\n",
        "    # target_text = '\\tVa !\\n'\n",
        "\n",
        "    input_texts.append(input_text)\n",
        "    target_texts.append(target_text)\n",
        "\n",
        "    for char in input_text:\n",
        "        if char not in input_characters:\n",
        "            input_characters.add(char)\n",
        "    # input_characteres = {'.', 'o', 'G'}\n",
        "    for char in target_text:\n",
        "        if char not in target_characters:\n",
        "            target_characters.add(char)\n",
        "    # target_characters = {'a', 'V', '\\n', '\\t', ' ', '!'}\n",
        "\n",
        "\n",
        "input_characters = sorted(list(input_characters))\n",
        "target_characters = sorted(list(target_characters))\n",
        "# input_characters = [' ', '!', '$', '%', '&', \"'\", ',', '-', '.', '0', '1', '2', '3', '5', '6', '7', '8', '9', ':', '?', 'A', 'B', 'C', 'D', 'E', 'F', 'G', 'H', 'I', 'J', 'K', 'L', 'M', 'N', 'O', 'P', 'Q', 'R', 'S', 'T', 'U', 'V', 'W', 'Y', 'a', 'b', 'c', 'd', 'e', 'f', 'g', 'h', 'i', 'j', 'k', 'l', 'm', 'n', 'o', 'p', 'q', 'r', 's', 't', 'u', 'v', 'w', 'x', 'y', 'z', 'é']\n",
        "# target_characters = ['\\t', '\\n', ' ', '!', '$', '%', '&', \"'\", '(', ')', ',', '-', '.', '0', '1', '2', '3', '5', '8', '9', ':', '?', 'A', 'B', 'C', 'D', 'E', 'F', 'G', 'H', 'I', 'J', 'K', 'L', 'M', 'N', 'O', 'P', 'Q', 'R', 'S', 'T', 'U', 'V', 'Y', 'a', 'b', 'c', 'd', 'e', 'f', 'g', 'h', 'i', 'j', 'k', 'l', 'm', 'n', 'o', 'p', 'q', 'r', 's', 't', 'u', 'v', 'x', 'y', 'z', '\\xa0', '«', '»', 'À', 'Ç', 'É', 'Ê', 'à', 'â', 'ç', 'è', 'é', 'ê', 'ë', 'î', 'ï', 'ô', 'ù', 'û', 'œ', '\\u2009', '’', '\\u202f']\n",
        "\n",
        "num_encoder_tokens = len(input_characters)\n",
        "num_decoder_tokens = len(target_characters)\n",
        "# num_encoder_tokens = 71\n",
        "# num_decoder_tokens = 93\n",
        "\n",
        "\n",
        "max_encoder_seq_length = max([len(txt) for txt in input_texts])\n",
        "max_decoder_seq_length = max([len(txt) for txt in target_texts])\n",
        "# max_encoder_seq_length = 15 # 최대 길이의 단어의 글자수\n",
        "# max_decoder_seq_length = 59 # 최대 길이의 단어의 글자수\n",
        "\n",
        "print(\"Number of samples:\", len(input_texts))\n",
        "print(\"Number of unique input tokens:\", num_encoder_tokens)\n",
        "print(\"Number of unique output tokens:\", num_decoder_tokens)\n",
        "print(\"Max sequence length for inputs:\", max_encoder_seq_length)\n",
        "print(\"Max sequence length for outputs:\", max_decoder_seq_length)\n",
        "\n",
        "input_token_index = dict([(char, i) for i, char in enumerate(input_characters)])\n",
        "target_token_index = dict([(char, i) for i, char in enumerate(target_characters)])\n",
        "# input_token_index = {' ': 0, '!': 1, '$': 2, '%': 3, '&': 4, \"'\": 5, ',': 6, '-': 7, '.': 8, '0': 9, '1': 10, '2': 11, '3': 12, '5': 13, '6': 14, '7': 15, '8': 16, '9': 17, ':': 18, '?': 19, 'A': 20, 'B': 21, 'C': 22, 'D': 23, 'E': 24, 'F': 25, 'G': 26, 'H': 27, 'I': 28, 'J': 29, 'K': 30, 'L': 31, 'M': 32, 'N': 33, 'O': 34, 'P': 35, 'Q': 36, 'R': 37, 'S': 38, 'T': 39, 'U': 40, 'V': 41, 'W': 42, 'Y': 43, 'a': 44, 'b': 45, 'c': 46, 'd': 47, 'e': 48, 'f': 49, 'g': 50, 'h': 51, 'i': 52, 'j': 53, 'k': 54, 'l': 55, 'm': 56, 'n': 57, 'o': 58, 'p': 59, 'q': 60, 'r': 61, 's': 62, 't': 63, 'u': 64, 'v': 65, 'w': 66, 'x': 67, 'y': 68, 'z': 69, 'é': 70}\n",
        "# target_token_index = {'\\t': 0, '\\n': 1, ' ': 2, '!': 3, '$': 4, '%': 5, '&': 6, \"'\": 7, '(': 8, ')': 9, ',': 10, '-': 11, '.': 12, '0': 13, '1': 14, '2': 15, '3': 16, '5': 17, '8': 18, '9': 19, ':': 20, '?': 21, 'A': 22, 'B': 23, 'C': 24, 'D': 25, 'E': 26, 'F': 27, 'G': 28, 'H': 29, 'I': 30, 'J': 31, 'K': 32, 'L': 33, 'M': 34, 'N': 35, 'O': 36, 'P': 37, 'Q': 38, 'R': 39, 'S': 40, 'T': 41, 'U': 42, 'V': 43, 'Y': 44, 'a': 45, 'b': 46, 'c': 47, 'd': 48, 'e': 49, 'f': 50, 'g': 51, 'h': 52, 'i': 53, 'j': 54, 'k': 55, 'l': 56, 'm': 57, 'n': 58, 'o': 59, 'p': 60, 'q': 61, 'r': 62, 's': 63, 't': 64, 'u': 65, 'v': 66, 'x': 67, 'y': 68, 'z': 69, '\\xa0': 70, '«': 71, '»': 72, 'À': 73, 'Ç': 74, 'É': 75, 'Ê': 76, 'à': 77, 'â': 78, 'ç': 79, 'è': 80, 'é': 81, 'ê': 82, 'ë': 83, 'î': 84, 'ï': 85, 'ô': 86, 'ù': 87, 'û': 88, 'œ': 89, '\\u2009': 90, '’': 91, '\\u202f': 92}\n",
        "\n",
        "\n",
        "encoder_input_data = np.zeros(\n",
        "    (len(input_texts), max_encoder_seq_length, num_encoder_tokens), dtype=\"float32\"\n",
        ")\n",
        "decoder_input_data = np.zeros(\n",
        "    (len(input_texts), max_decoder_seq_length, num_decoder_tokens), dtype=\"float32\"\n",
        ")\n",
        "decoder_target_data = np.zeros(\n",
        "    (len(input_texts), max_decoder_seq_length, num_decoder_tokens), dtype=\"float32\"\n",
        ")\n",
        "\n",
        "# encoder_input_data.shape = (10000, 15, 71)    # 15 : 최대 글자수, 71 : 글자 종류 수\n",
        "# decoder_input_data.shape = (10000, 59, 93)\n",
        "# decoder_target_data.shape = (10000, 59, 93)\n",
        "\n",
        "\n",
        "# 인코딩\n",
        "# 1개의 word는 15x71의 2차원 데이터로 인코딩 된다.\n",
        "# input_text = 'Go.'\n",
        "#    1 2 3 4 5 6 7 8      15\n",
        "# 1  0 0 0 0 0 0 ! 0 .... 0  <-----  1번째 글짜 'G' 인코딩. \n",
        "# 2  0 0 ! 0 0 0 0 0 .... 0  <------ 2번째 글짜 'o' 인코딩\n",
        "# 3  0 0 0 0 0 0 0 0 .... 0  <------ 3번째 글짜 '.' 인코딩\n",
        "# 4  0 0 0 0 0 0 0 0 .... 0  <------ 4번째 글자. 없다. 전부 0\n",
        "# 5  0 0 0 0 0 0 0 0 .... 0  <------ 5번째 글자. 없다. 전부 0\n",
        "# 6  0 0 0 0 0 0 0 0 .... 0  <------ 6번째 글자. 없다. 전부 0\n",
        "#    ...\n",
        "#    ...\n",
        "# 71 0 0 0 0 0 0 0 0 .... 0  <------ 15번째 글자. 없다. 전부 0\n",
        "\n",
        "\n",
        "\n",
        "# encoder_input_data[0]  = 'G', 'o', '.', ' '\n",
        "# decoder_input_data[0]  = '\\t', 'V', 'a', ' ', '!', '\\n', ' '\n",
        "# decoder_target_data[0] =       'V', 'a', ' ', '!', '\\n', ' '\n",
        "for i, (input_text, target_text) in enumerate(zip(input_texts, target_texts)):\n",
        "    # input_text = 'Go.'\n",
        "    # target_text = '\\tVa !\\n'\n",
        "    for t, char in enumerate(input_text):\n",
        "        encoder_input_data[i, t, input_token_index[char]] = 1.0\n",
        "    encoder_input_data[i, t + 1 :, input_token_index[\" \"]] = 1.0\n",
        "    for t, char in enumerate(target_text):\n",
        "        # decoder_target_data is ahead of decoder_input_data by one timestep\n",
        "        decoder_input_data[i, t, target_token_index[char]] = 1.0\n",
        "        if t > 0:\n",
        "            # decoder_target_data will be ahead by one timestep\n",
        "            # and will not include the start character.\n",
        "            decoder_target_data[i, t - 1, target_token_index[char]] = 1.0\n",
        "    decoder_input_data[i, t + 1 :, target_token_index[\" \"]] = 1.0\n",
        "    decoder_target_data[i, t:, target_token_index[\" \"]] = 1.0\n",
        "\n"
      ],
      "execution_count": 6,
      "outputs": [
        {
          "output_type": "stream",
          "text": [
            "Number of samples: 10000\n",
            "Number of unique input tokens: 71\n",
            "Number of unique output tokens: 93\n",
            "Max sequence length for inputs: 15\n",
            "Max sequence length for outputs: 59\n"
          ],
          "name": "stdout"
        }
      ]
    },
    {
      "cell_type": "markdown",
      "metadata": {
        "colab_type": "text",
        "id": "BAJBYgsAvxrd"
      },
      "source": [
        "## Build the model\n"
      ]
    },
    {
      "cell_type": "markdown",
      "metadata": {
        "id": "YxkYkWCpfqaV",
        "colab_type": "text"
      },
      "source": [
        "```\n",
        "encoder_inputs = 'Go. '\n",
        "decoder_inputs = '\\tVa !\\n '\n",
        "decoder_outputs = 'Va !\\n '\n",
        "\n",
        "state           = encoder_lstm(encoder_inputs)\n",
        "decoder_outputs = decoder_lstm(decoder_inputs, initial_state=state)\n",
        "\n",
        "state           = encoder_lstm('Go. ')\n",
        "'Va !/n '       = decoder_lstm('/tVa !/n ', initial_state=state)\n",
        "\n",
        "\n",
        "# 내부적으로 encoder, decoder는 다음을 계산한다.\n",
        "'o', state = encoder_lstm('G', initial_state=None)\n",
        "'.', state = encoder_lstm('o', state)\n",
        "' ', state = encoder_lstm('.', state)\n",
        "\n",
        "'V', state = decoder_listm('\\t', initial_state=state)\n",
        "'a', state = decoder_listm('V', state)\n",
        "' ', state = decoder_listm('a', state)\n",
        "'!', state = decoder_listm(' ', state)\n",
        "'\\n', state = decoder_listm('!', state)\n",
        "' ' state = decoder_listm('\\n', state)\n",
        "```"
      ]
    },
    {
      "cell_type": "code",
      "metadata": {
        "colab_type": "code",
        "id": "gsTWoEErvxre",
        "colab": {}
      },
      "source": [
        "# Define an input sequence and process it.\n",
        "encoder_inputs = keras.Input(shape=(None, num_encoder_tokens)) # num_encoder_tokens = 71. 글자 종류\n",
        "encoder = keras.layers.LSTM(latent_dim, return_state=True) # latent_dim = 256. 설정값\n",
        "encoder_outputs, state_h, state_c = encoder(encoder_inputs)\n",
        "\n",
        "# We discard `encoder_outputs` and only keep the states.\n",
        "encoder_states = [state_h, state_c]\n",
        "\n",
        "# Set up the decoder, using `encoder_states` as initial state.\n",
        "decoder_inputs = keras.Input(shape=(None, num_decoder_tokens)) # num_decoder_tokens = 93, 글자 종류\n",
        "\n",
        "# We set up our decoder to return full output sequences,\n",
        "# and to return internal states as well. We don't use the\n",
        "# return states in the training model, but we will use them in inference.\n",
        "decoder_lstm = keras.layers.LSTM(latent_dim, return_sequences=True, return_state=True) # latent_dim = 256. 설정값\n",
        "decoder_outputs, _, _ = decoder_lstm(decoder_inputs, initial_state=encoder_states)\n",
        "decoder_dense = keras.layers.Dense(num_decoder_tokens, activation=\"softmax\")\n",
        "decoder_outputs = decoder_dense(decoder_outputs)\n",
        "\n",
        "# Define the model that will turn\n",
        "# `encoder_input_data` & `decoder_input_data` into `decoder_target_data`\n",
        "model = keras.Model([encoder_inputs, decoder_inputs], decoder_outputs)\n"
      ],
      "execution_count": 7,
      "outputs": []
    },
    {
      "cell_type": "markdown",
      "metadata": {
        "colab_type": "text",
        "id": "eyNMgPEWvxrj"
      },
      "source": [
        "## Train the model\n"
      ]
    },
    {
      "cell_type": "code",
      "metadata": {
        "colab_type": "code",
        "id": "vLt32PGYvxrk",
        "colab": {
          "base_uri": "https://localhost:8080/",
          "height": 1000
        },
        "outputId": "b21ff282-6ee4-497e-c6a3-9fb94ba5dc9f"
      },
      "source": [
        "model.compile(\n",
        "    optimizer=\"rmsprop\", loss=\"categorical_crossentropy\", metrics=[\"accuracy\"]\n",
        ")\n",
        "model.fit(\n",
        "    [encoder_input_data, decoder_input_data],\n",
        "    decoder_target_data,\n",
        "    batch_size=batch_size,\n",
        "    epochs=epochs,\n",
        "    validation_split=0.2,\n",
        ")\n",
        "# Save model\n",
        "model.save(\"s2s\")\n"
      ],
      "execution_count": 8,
      "outputs": [
        {
          "output_type": "stream",
          "text": [
            "Epoch 1/100\n",
            "125/125 [==============================] - 2s 17ms/step - loss: 1.1813 - accuracy: 0.7256 - val_loss: 1.0927 - val_accuracy: 0.6995\n",
            "Epoch 2/100\n",
            "125/125 [==============================] - 1s 12ms/step - loss: 0.8492 - accuracy: 0.7697 - val_loss: 0.8425 - val_accuracy: 0.7686\n",
            "Epoch 3/100\n",
            "125/125 [==============================] - 1s 11ms/step - loss: 0.6842 - accuracy: 0.8079 - val_loss: 0.7227 - val_accuracy: 0.7865\n",
            "Epoch 4/100\n",
            "125/125 [==============================] - 1s 11ms/step - loss: 0.5930 - accuracy: 0.8286 - val_loss: 0.6611 - val_accuracy: 0.8094\n",
            "Epoch 5/100\n",
            "125/125 [==============================] - 1s 11ms/step - loss: 0.5410 - accuracy: 0.8421 - val_loss: 0.6156 - val_accuracy: 0.8181\n",
            "Epoch 6/100\n",
            "125/125 [==============================] - 1s 11ms/step - loss: 0.5035 - accuracy: 0.8523 - val_loss: 0.5731 - val_accuracy: 0.8317\n",
            "Epoch 7/100\n",
            "125/125 [==============================] - 1s 11ms/step - loss: 0.4754 - accuracy: 0.8600 - val_loss: 0.5591 - val_accuracy: 0.8350\n",
            "Epoch 8/100\n",
            "125/125 [==============================] - 1s 12ms/step - loss: 0.4517 - accuracy: 0.8660 - val_loss: 0.5367 - val_accuracy: 0.8415\n",
            "Epoch 9/100\n",
            "125/125 [==============================] - 1s 11ms/step - loss: 0.4313 - accuracy: 0.8715 - val_loss: 0.5148 - val_accuracy: 0.8479\n",
            "Epoch 10/100\n",
            "125/125 [==============================] - 1s 11ms/step - loss: 0.4125 - accuracy: 0.8771 - val_loss: 0.5012 - val_accuracy: 0.8506\n",
            "Epoch 11/100\n",
            "125/125 [==============================] - 1s 11ms/step - loss: 0.3955 - accuracy: 0.8814 - val_loss: 0.4921 - val_accuracy: 0.8544\n",
            "Epoch 12/100\n",
            "125/125 [==============================] - 1s 12ms/step - loss: 0.3795 - accuracy: 0.8862 - val_loss: 0.4832 - val_accuracy: 0.8567\n",
            "Epoch 13/100\n",
            "125/125 [==============================] - 1s 11ms/step - loss: 0.3646 - accuracy: 0.8905 - val_loss: 0.4714 - val_accuracy: 0.8605\n",
            "Epoch 14/100\n",
            "125/125 [==============================] - 1s 12ms/step - loss: 0.3508 - accuracy: 0.8939 - val_loss: 0.4626 - val_accuracy: 0.8635\n",
            "Epoch 15/100\n",
            "125/125 [==============================] - 1s 11ms/step - loss: 0.3379 - accuracy: 0.8979 - val_loss: 0.4639 - val_accuracy: 0.8619\n",
            "Epoch 16/100\n",
            "125/125 [==============================] - 1s 12ms/step - loss: 0.3256 - accuracy: 0.9019 - val_loss: 0.4565 - val_accuracy: 0.8655\n",
            "Epoch 17/100\n",
            "125/125 [==============================] - 1s 12ms/step - loss: 0.3140 - accuracy: 0.9052 - val_loss: 0.4520 - val_accuracy: 0.8670\n",
            "Epoch 18/100\n",
            "125/125 [==============================] - 1s 12ms/step - loss: 0.3035 - accuracy: 0.9082 - val_loss: 0.4448 - val_accuracy: 0.8690\n",
            "Epoch 19/100\n",
            "125/125 [==============================] - 1s 11ms/step - loss: 0.2926 - accuracy: 0.9112 - val_loss: 0.4453 - val_accuracy: 0.8695\n",
            "Epoch 20/100\n",
            "125/125 [==============================] - 1s 11ms/step - loss: 0.2826 - accuracy: 0.9145 - val_loss: 0.4431 - val_accuracy: 0.8707\n",
            "Epoch 21/100\n",
            "125/125 [==============================] - 1s 11ms/step - loss: 0.2732 - accuracy: 0.9173 - val_loss: 0.4428 - val_accuracy: 0.8718\n",
            "Epoch 22/100\n",
            "125/125 [==============================] - 1s 11ms/step - loss: 0.2639 - accuracy: 0.9201 - val_loss: 0.4419 - val_accuracy: 0.8732\n",
            "Epoch 23/100\n",
            "125/125 [==============================] - 1s 11ms/step - loss: 0.2552 - accuracy: 0.9226 - val_loss: 0.4419 - val_accuracy: 0.8729\n",
            "Epoch 24/100\n",
            "125/125 [==============================] - 1s 11ms/step - loss: 0.2469 - accuracy: 0.9250 - val_loss: 0.4446 - val_accuracy: 0.8720\n",
            "Epoch 25/100\n",
            "125/125 [==============================] - 1s 11ms/step - loss: 0.2390 - accuracy: 0.9274 - val_loss: 0.4417 - val_accuracy: 0.8744\n",
            "Epoch 26/100\n",
            "125/125 [==============================] - 1s 11ms/step - loss: 0.2311 - accuracy: 0.9299 - val_loss: 0.4462 - val_accuracy: 0.8745\n",
            "Epoch 27/100\n",
            "125/125 [==============================] - 1s 11ms/step - loss: 0.2242 - accuracy: 0.9317 - val_loss: 0.4449 - val_accuracy: 0.8751\n",
            "Epoch 28/100\n",
            "125/125 [==============================] - 1s 11ms/step - loss: 0.2172 - accuracy: 0.9337 - val_loss: 0.4457 - val_accuracy: 0.8764\n",
            "Epoch 29/100\n",
            "125/125 [==============================] - 1s 11ms/step - loss: 0.2104 - accuracy: 0.9359 - val_loss: 0.4456 - val_accuracy: 0.8759\n",
            "Epoch 30/100\n",
            "125/125 [==============================] - 1s 11ms/step - loss: 0.2035 - accuracy: 0.9381 - val_loss: 0.4514 - val_accuracy: 0.8765\n",
            "Epoch 31/100\n",
            "125/125 [==============================] - 1s 11ms/step - loss: 0.1974 - accuracy: 0.9399 - val_loss: 0.4541 - val_accuracy: 0.8766\n",
            "Epoch 32/100\n",
            "125/125 [==============================] - 1s 11ms/step - loss: 0.1915 - accuracy: 0.9414 - val_loss: 0.4599 - val_accuracy: 0.8754\n",
            "Epoch 33/100\n",
            "125/125 [==============================] - 1s 11ms/step - loss: 0.1857 - accuracy: 0.9436 - val_loss: 0.4591 - val_accuracy: 0.8761\n",
            "Epoch 34/100\n",
            "125/125 [==============================] - 1s 11ms/step - loss: 0.1802 - accuracy: 0.9449 - val_loss: 0.4648 - val_accuracy: 0.8765\n",
            "Epoch 35/100\n",
            "125/125 [==============================] - 1s 11ms/step - loss: 0.1747 - accuracy: 0.9464 - val_loss: 0.4612 - val_accuracy: 0.8779\n",
            "Epoch 36/100\n",
            "125/125 [==============================] - 1s 12ms/step - loss: 0.1696 - accuracy: 0.9479 - val_loss: 0.4694 - val_accuracy: 0.8768\n",
            "Epoch 37/100\n",
            "125/125 [==============================] - 1s 11ms/step - loss: 0.1649 - accuracy: 0.9496 - val_loss: 0.4754 - val_accuracy: 0.8757\n",
            "Epoch 38/100\n",
            "125/125 [==============================] - 1s 12ms/step - loss: 0.1602 - accuracy: 0.9512 - val_loss: 0.4759 - val_accuracy: 0.8767\n",
            "Epoch 39/100\n",
            "125/125 [==============================] - 1s 11ms/step - loss: 0.1558 - accuracy: 0.9522 - val_loss: 0.4833 - val_accuracy: 0.8766\n",
            "Epoch 40/100\n",
            "125/125 [==============================] - 1s 12ms/step - loss: 0.1517 - accuracy: 0.9534 - val_loss: 0.4844 - val_accuracy: 0.8765\n",
            "Epoch 41/100\n",
            "125/125 [==============================] - 1s 11ms/step - loss: 0.1475 - accuracy: 0.9546 - val_loss: 0.4894 - val_accuracy: 0.8767\n",
            "Epoch 42/100\n",
            "125/125 [==============================] - 1s 12ms/step - loss: 0.1433 - accuracy: 0.9558 - val_loss: 0.4944 - val_accuracy: 0.8771\n",
            "Epoch 43/100\n",
            "125/125 [==============================] - 1s 11ms/step - loss: 0.1398 - accuracy: 0.9568 - val_loss: 0.4966 - val_accuracy: 0.8761\n",
            "Epoch 44/100\n",
            "125/125 [==============================] - 1s 11ms/step - loss: 0.1360 - accuracy: 0.9577 - val_loss: 0.5004 - val_accuracy: 0.8766\n",
            "Epoch 45/100\n",
            "125/125 [==============================] - 1s 11ms/step - loss: 0.1324 - accuracy: 0.9590 - val_loss: 0.5052 - val_accuracy: 0.8773\n",
            "Epoch 46/100\n",
            "125/125 [==============================] - 1s 11ms/step - loss: 0.1289 - accuracy: 0.9600 - val_loss: 0.5114 - val_accuracy: 0.8758\n",
            "Epoch 47/100\n",
            "125/125 [==============================] - 1s 11ms/step - loss: 0.1257 - accuracy: 0.9610 - val_loss: 0.5162 - val_accuracy: 0.8764\n",
            "Epoch 48/100\n",
            "125/125 [==============================] - 1s 11ms/step - loss: 0.1228 - accuracy: 0.9619 - val_loss: 0.5168 - val_accuracy: 0.8767\n",
            "Epoch 49/100\n",
            "125/125 [==============================] - 1s 11ms/step - loss: 0.1197 - accuracy: 0.9625 - val_loss: 0.5182 - val_accuracy: 0.8774\n",
            "Epoch 50/100\n",
            "125/125 [==============================] - 1s 11ms/step - loss: 0.1166 - accuracy: 0.9636 - val_loss: 0.5257 - val_accuracy: 0.8770\n",
            "Epoch 51/100\n",
            "125/125 [==============================] - 1s 11ms/step - loss: 0.1138 - accuracy: 0.9645 - val_loss: 0.5294 - val_accuracy: 0.8757\n",
            "Epoch 52/100\n",
            "125/125 [==============================] - 1s 11ms/step - loss: 0.1108 - accuracy: 0.9655 - val_loss: 0.5370 - val_accuracy: 0.8771\n",
            "Epoch 53/100\n",
            "125/125 [==============================] - 1s 11ms/step - loss: 0.1085 - accuracy: 0.9662 - val_loss: 0.5400 - val_accuracy: 0.8765\n",
            "Epoch 54/100\n",
            "125/125 [==============================] - 1s 11ms/step - loss: 0.1059 - accuracy: 0.9670 - val_loss: 0.5496 - val_accuracy: 0.8756\n",
            "Epoch 55/100\n",
            "125/125 [==============================] - 1s 12ms/step - loss: 0.1036 - accuracy: 0.9676 - val_loss: 0.5486 - val_accuracy: 0.8771\n",
            "Epoch 56/100\n",
            "125/125 [==============================] - 1s 11ms/step - loss: 0.1011 - accuracy: 0.9682 - val_loss: 0.5565 - val_accuracy: 0.8759\n",
            "Epoch 57/100\n",
            "125/125 [==============================] - 1s 11ms/step - loss: 0.0990 - accuracy: 0.9690 - val_loss: 0.5633 - val_accuracy: 0.8760\n",
            "Epoch 58/100\n",
            "125/125 [==============================] - 1s 11ms/step - loss: 0.0968 - accuracy: 0.9695 - val_loss: 0.5628 - val_accuracy: 0.8761\n",
            "Epoch 59/100\n",
            "125/125 [==============================] - 1s 11ms/step - loss: 0.0948 - accuracy: 0.9702 - val_loss: 0.5649 - val_accuracy: 0.8752\n",
            "Epoch 60/100\n",
            "125/125 [==============================] - 1s 12ms/step - loss: 0.0927 - accuracy: 0.9706 - val_loss: 0.5625 - val_accuracy: 0.8770\n",
            "Epoch 61/100\n",
            "125/125 [==============================] - 1s 11ms/step - loss: 0.0906 - accuracy: 0.9713 - val_loss: 0.5779 - val_accuracy: 0.8754\n",
            "Epoch 62/100\n",
            "125/125 [==============================] - 1s 11ms/step - loss: 0.0887 - accuracy: 0.9716 - val_loss: 0.5768 - val_accuracy: 0.8762\n",
            "Epoch 63/100\n",
            "125/125 [==============================] - 1s 11ms/step - loss: 0.0870 - accuracy: 0.9723 - val_loss: 0.5810 - val_accuracy: 0.8762\n",
            "Epoch 64/100\n",
            "125/125 [==============================] - 1s 11ms/step - loss: 0.0849 - accuracy: 0.9730 - val_loss: 0.5859 - val_accuracy: 0.8750\n",
            "Epoch 65/100\n",
            "125/125 [==============================] - 1s 11ms/step - loss: 0.0834 - accuracy: 0.9732 - val_loss: 0.5895 - val_accuracy: 0.8758\n",
            "Epoch 66/100\n",
            "125/125 [==============================] - 1s 11ms/step - loss: 0.0818 - accuracy: 0.9738 - val_loss: 0.5933 - val_accuracy: 0.8767\n",
            "Epoch 67/100\n",
            "125/125 [==============================] - 1s 11ms/step - loss: 0.0801 - accuracy: 0.9742 - val_loss: 0.5963 - val_accuracy: 0.8759\n",
            "Epoch 68/100\n",
            "125/125 [==============================] - 1s 11ms/step - loss: 0.0785 - accuracy: 0.9748 - val_loss: 0.6016 - val_accuracy: 0.8761\n",
            "Epoch 69/100\n",
            "125/125 [==============================] - 1s 11ms/step - loss: 0.0770 - accuracy: 0.9753 - val_loss: 0.6103 - val_accuracy: 0.8745\n",
            "Epoch 70/100\n",
            "125/125 [==============================] - 1s 11ms/step - loss: 0.0756 - accuracy: 0.9756 - val_loss: 0.6103 - val_accuracy: 0.8756\n",
            "Epoch 71/100\n",
            "125/125 [==============================] - 1s 11ms/step - loss: 0.0742 - accuracy: 0.9761 - val_loss: 0.6172 - val_accuracy: 0.8746\n",
            "Epoch 72/100\n",
            "125/125 [==============================] - 1s 11ms/step - loss: 0.0726 - accuracy: 0.9765 - val_loss: 0.6230 - val_accuracy: 0.8749\n",
            "Epoch 73/100\n",
            "125/125 [==============================] - 1s 11ms/step - loss: 0.0710 - accuracy: 0.9771 - val_loss: 0.6196 - val_accuracy: 0.8755\n",
            "Epoch 74/100\n",
            "125/125 [==============================] - 1s 11ms/step - loss: 0.0698 - accuracy: 0.9774 - val_loss: 0.6297 - val_accuracy: 0.8746\n",
            "Epoch 75/100\n",
            "125/125 [==============================] - 1s 11ms/step - loss: 0.0688 - accuracy: 0.9773 - val_loss: 0.6300 - val_accuracy: 0.8742\n",
            "Epoch 76/100\n",
            "125/125 [==============================] - 1s 12ms/step - loss: 0.0672 - accuracy: 0.9781 - val_loss: 0.6361 - val_accuracy: 0.8749\n",
            "Epoch 77/100\n",
            "125/125 [==============================] - 1s 11ms/step - loss: 0.0664 - accuracy: 0.9782 - val_loss: 0.6393 - val_accuracy: 0.8744\n",
            "Epoch 78/100\n",
            "125/125 [==============================] - 1s 11ms/step - loss: 0.0649 - accuracy: 0.9786 - val_loss: 0.6379 - val_accuracy: 0.8750\n",
            "Epoch 79/100\n",
            "125/125 [==============================] - 1s 11ms/step - loss: 0.0637 - accuracy: 0.9789 - val_loss: 0.6432 - val_accuracy: 0.8756\n",
            "Epoch 80/100\n",
            "125/125 [==============================] - 1s 12ms/step - loss: 0.0627 - accuracy: 0.9793 - val_loss: 0.6475 - val_accuracy: 0.8746\n",
            "Epoch 81/100\n",
            "125/125 [==============================] - 1s 11ms/step - loss: 0.0618 - accuracy: 0.9795 - val_loss: 0.6487 - val_accuracy: 0.8749\n",
            "Epoch 82/100\n",
            "125/125 [==============================] - 1s 11ms/step - loss: 0.0606 - accuracy: 0.9798 - val_loss: 0.6563 - val_accuracy: 0.8741\n",
            "Epoch 83/100\n",
            "125/125 [==============================] - 1s 11ms/step - loss: 0.0598 - accuracy: 0.9799 - val_loss: 0.6637 - val_accuracy: 0.8741\n",
            "Epoch 84/100\n",
            "125/125 [==============================] - 1s 11ms/step - loss: 0.0586 - accuracy: 0.9805 - val_loss: 0.6569 - val_accuracy: 0.8752\n",
            "Epoch 85/100\n",
            "125/125 [==============================] - 1s 11ms/step - loss: 0.0577 - accuracy: 0.9807 - val_loss: 0.6652 - val_accuracy: 0.8746\n",
            "Epoch 86/100\n",
            "125/125 [==============================] - 1s 11ms/step - loss: 0.0570 - accuracy: 0.9810 - val_loss: 0.6716 - val_accuracy: 0.8748\n",
            "Epoch 87/100\n",
            "125/125 [==============================] - 1s 11ms/step - loss: 0.0561 - accuracy: 0.9811 - val_loss: 0.6720 - val_accuracy: 0.8745\n",
            "Epoch 88/100\n",
            "125/125 [==============================] - 1s 11ms/step - loss: 0.0550 - accuracy: 0.9816 - val_loss: 0.6740 - val_accuracy: 0.8744\n",
            "Epoch 89/100\n",
            "125/125 [==============================] - 1s 11ms/step - loss: 0.0541 - accuracy: 0.9818 - val_loss: 0.6782 - val_accuracy: 0.8745\n",
            "Epoch 90/100\n",
            "125/125 [==============================] - 1s 11ms/step - loss: 0.0532 - accuracy: 0.9819 - val_loss: 0.6857 - val_accuracy: 0.8738\n",
            "Epoch 91/100\n",
            "125/125 [==============================] - 1s 11ms/step - loss: 0.0524 - accuracy: 0.9822 - val_loss: 0.6825 - val_accuracy: 0.8742\n",
            "Epoch 92/100\n",
            "125/125 [==============================] - 1s 11ms/step - loss: 0.0516 - accuracy: 0.9824 - val_loss: 0.6887 - val_accuracy: 0.8737\n",
            "Epoch 93/100\n",
            "125/125 [==============================] - 1s 11ms/step - loss: 0.0509 - accuracy: 0.9827 - val_loss: 0.6957 - val_accuracy: 0.8739\n",
            "Epoch 94/100\n",
            "125/125 [==============================] - 1s 11ms/step - loss: 0.0503 - accuracy: 0.9828 - val_loss: 0.6962 - val_accuracy: 0.8740\n",
            "Epoch 95/100\n",
            "125/125 [==============================] - 1s 11ms/step - loss: 0.0492 - accuracy: 0.9830 - val_loss: 0.6984 - val_accuracy: 0.8742\n",
            "Epoch 96/100\n",
            "125/125 [==============================] - 1s 11ms/step - loss: 0.0489 - accuracy: 0.9832 - val_loss: 0.6983 - val_accuracy: 0.8746\n",
            "Epoch 97/100\n",
            "125/125 [==============================] - 1s 11ms/step - loss: 0.0478 - accuracy: 0.9835 - val_loss: 0.7055 - val_accuracy: 0.8743\n",
            "Epoch 98/100\n",
            "125/125 [==============================] - 1s 11ms/step - loss: 0.0475 - accuracy: 0.9836 - val_loss: 0.7047 - val_accuracy: 0.8740\n",
            "Epoch 99/100\n",
            "125/125 [==============================] - 1s 11ms/step - loss: 0.0466 - accuracy: 0.9838 - val_loss: 0.7006 - val_accuracy: 0.8750\n",
            "Epoch 100/100\n",
            "125/125 [==============================] - 1s 11ms/step - loss: 0.0462 - accuracy: 0.9839 - val_loss: 0.7150 - val_accuracy: 0.8730\n",
            "WARNING:tensorflow:From /usr/local/lib/python3.6/dist-packages/tensorflow/python/training/tracking/tracking.py:111: Model.state_updates (from tensorflow.python.keras.engine.training) is deprecated and will be removed in a future version.\n",
            "Instructions for updating:\n",
            "This property should not be used in TensorFlow 2.0, as updates are applied automatically.\n",
            "WARNING:tensorflow:From /usr/local/lib/python3.6/dist-packages/tensorflow/python/training/tracking/tracking.py:111: Layer.updates (from tensorflow.python.keras.engine.base_layer) is deprecated and will be removed in a future version.\n",
            "Instructions for updating:\n",
            "This property should not be used in TensorFlow 2.0, as updates are applied automatically.\n",
            "INFO:tensorflow:Assets written to: s2s/assets\n"
          ],
          "name": "stdout"
        }
      ]
    },
    {
      "cell_type": "markdown",
      "metadata": {
        "colab_type": "text",
        "id": "s9uNhOkrvxrq"
      },
      "source": [
        "## Run inference (sampling)\n",
        "\n",
        "1. encode input and retrieve initial decoder state\n",
        "2. run one step of decoder with this initial state\n",
        "and a \"start of sequence\" token as target.\n",
        "Output will be the next target token.\n",
        "3. Repeat with the current target token and current states\n"
      ]
    },
    {
      "cell_type": "code",
      "metadata": {
        "colab_type": "code",
        "id": "Vl3eYhn_vxrq",
        "colab": {}
      },
      "source": [
        "# Define sampling models\n",
        "# Restore the model and construct the encoder and decoder.\n",
        "model = keras.models.load_model(\"s2s\")\n",
        "\n",
        "encoder_inputs = model.input[0]  # input_1\n",
        "encoder_outputs, state_h_enc, state_c_enc = model.layers[2].output  # lstm_1\n",
        "encoder_states = [state_h_enc, state_c_enc]\n",
        "encoder_model = keras.Model(encoder_inputs, encoder_states)\n",
        "\n",
        "decoder_inputs = model.input[1]  # input_2\n",
        "decoder_state_input_h = keras.Input(shape=(latent_dim,), name=\"input_3\")\n",
        "decoder_state_input_c = keras.Input(shape=(latent_dim,), name=\"input_4\")\n",
        "decoder_states_inputs = [decoder_state_input_h, decoder_state_input_c]\n",
        "decoder_lstm = model.layers[3]\n",
        "decoder_outputs, state_h_dec, state_c_dec = decoder_lstm(\n",
        "    decoder_inputs, initial_state=decoder_states_inputs\n",
        ")\n",
        "decoder_states = [state_h_dec, state_c_dec]\n",
        "decoder_dense = model.layers[4]\n",
        "decoder_outputs = decoder_dense(decoder_outputs)\n",
        "decoder_model = keras.Model(\n",
        "    [decoder_inputs] + decoder_states_inputs, [decoder_outputs] + decoder_states\n",
        ")\n",
        "\n",
        "# Reverse-lookup token index to decode sequences back to\n",
        "# something readable.\n",
        "reverse_input_char_index = dict((i, char) for char, i in input_token_index.items())\n",
        "reverse_target_char_index = dict((i, char) for char, i in target_token_index.items())\n",
        "\n",
        "\n",
        "def decode_sequence(input_seq):\n",
        "    # Encode the input as state vectors.\n",
        "    states_value = encoder_model.predict(input_seq)\n",
        "\n",
        "    # Generate empty target sequence of length 1.\n",
        "    target_seq = np.zeros((1, 1, num_decoder_tokens))\n",
        "    # Populate the first character of target sequence with the start character.\n",
        "    target_seq[0, 0, target_token_index[\"\\t\"]] = 1.0\n",
        "\n",
        "    # Sampling loop for a batch of sequences\n",
        "    # (to simplify, here we assume a batch of size 1).\n",
        "    stop_condition = False\n",
        "    decoded_sentence = \"\"\n",
        "    while not stop_condition:\n",
        "        output_tokens, h, c = decoder_model.predict([target_seq] + states_value)\n",
        "\n",
        "        # Sample a token\n",
        "        sampled_token_index = np.argmax(output_tokens[0, -1, :])\n",
        "        sampled_char = reverse_target_char_index[sampled_token_index]\n",
        "        decoded_sentence += sampled_char\n",
        "\n",
        "        # Exit condition: either hit max length\n",
        "        # or find stop character.\n",
        "        if sampled_char == \"\\n\" or len(decoded_sentence) > max_decoder_seq_length:\n",
        "            stop_condition = True\n",
        "\n",
        "        # Update the target sequence (of length 1).\n",
        "        target_seq = np.zeros((1, 1, num_decoder_tokens))\n",
        "        target_seq[0, 0, sampled_token_index] = 1.0\n",
        "\n",
        "        # Update states\n",
        "        states_value = [h, c]\n",
        "    return decoded_sentence\n",
        "\n"
      ],
      "execution_count": 9,
      "outputs": []
    },
    {
      "cell_type": "markdown",
      "metadata": {
        "colab_type": "text",
        "id": "6plI2HtIvxrv"
      },
      "source": [
        "You can now generate decoded sentences as such:\n"
      ]
    },
    {
      "cell_type": "code",
      "metadata": {
        "colab_type": "code",
        "id": "0xibR9g1vxrv",
        "colab": {
          "base_uri": "https://localhost:8080/",
          "height": 1000
        },
        "outputId": "2de8bb92-a045-49e3-f1a0-5cc55e480f07"
      },
      "source": [
        "for seq_index in range(20):\n",
        "    # Take one sequence (part of the training set)\n",
        "    # for trying out decoding.\n",
        "    input_seq = encoder_input_data[seq_index : seq_index + 1]\n",
        "    decoded_sentence = decode_sequence(input_seq)\n",
        "    print(\"-\")\n",
        "    print(\"Input sentence:\", input_texts[seq_index])\n",
        "    print(\"Decoded sentence:\", decoded_sentence)\n"
      ],
      "execution_count": 10,
      "outputs": [
        {
          "output_type": "stream",
          "text": [
            "-\n",
            "Input sentence: Go.\n",
            "Decoded sentence: Va !\n",
            "\n",
            "-\n",
            "Input sentence: Hi.\n",
            "Decoded sentence: Salut.\n",
            "\n",
            "-\n",
            "Input sentence: Hi.\n",
            "Decoded sentence: Salut.\n",
            "\n",
            "-\n",
            "Input sentence: Run!\n",
            "Decoded sentence: Courez !\n",
            "\n",
            "-\n",
            "Input sentence: Run!\n",
            "Decoded sentence: Courez !\n",
            "\n",
            "-\n",
            "Input sentence: Who?\n",
            "Decoded sentence: Qui ?\n",
            "\n",
            "-\n",
            "Input sentence: Wow!\n",
            "Decoded sentence: Ça alors !\n",
            "\n",
            "-\n",
            "Input sentence: Fire!\n",
            "Decoded sentence: Au feu !\n",
            "\n",
            "-\n",
            "Input sentence: Help!\n",
            "Decoded sentence: À l'aide !\n",
            "\n",
            "-\n",
            "Input sentence: Jump.\n",
            "Decoded sentence: Saute.\n",
            "\n",
            "-\n",
            "Input sentence: Stop!\n",
            "Decoded sentence: Arrête-toi !\n",
            "\n",
            "-\n",
            "Input sentence: Stop!\n",
            "Decoded sentence: Arrête-toi !\n",
            "\n",
            "-\n",
            "Input sentence: Stop!\n",
            "Decoded sentence: Arrête-toi !\n",
            "\n",
            "-\n",
            "Input sentence: Wait!\n",
            "Decoded sentence: Attends !\n",
            "\n",
            "-\n",
            "Input sentence: Wait!\n",
            "Decoded sentence: Attends !\n",
            "\n",
            "-\n",
            "Input sentence: Go on.\n",
            "Decoded sentence: Poursuis.\n",
            "\n",
            "-\n",
            "Input sentence: Go on.\n",
            "Decoded sentence: Poursuis.\n",
            "\n",
            "-\n",
            "Input sentence: Go on.\n",
            "Decoded sentence: Poursuis.\n",
            "\n",
            "-\n",
            "Input sentence: Hello!\n",
            "Decoded sentence: Bonjour !\n",
            "\n",
            "-\n",
            "Input sentence: Hello!\n",
            "Decoded sentence: Bonjour !\n",
            "\n"
          ],
          "name": "stdout"
        }
      ]
    }
  ]
}