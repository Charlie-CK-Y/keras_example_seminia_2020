{
  "nbformat": 4,
  "nbformat_minor": 0,
  "metadata": {
    "colab": {
      "name": "tbdev_getting_started.ipynb",
      "provenance": [],
      "collapsed_sections": [],
      "toc_visible": true
    },
    "kernelspec": {
      "display_name": "Python 3",
      "name": "python3"
    }
  },
  "cells": [
    {
      "cell_type": "markdown",
      "metadata": {
        "id": "_EsUarZ0Oybb",
        "colab_type": "text"
      },
      "source": [
        "![임도형 커멘트](https://github.com/dhrim/keras_example_seminia_2020/raw/master/comment.png)\n",
        "\n",
        "# 개요\n",
        "\n",
        "- 원 본 : https://www.tensorflow.org/model_optimization/guide/pruning/pruning_with_keras\n",
        "- 작업 : 영상 분류\n",
        "- 데이터 : MNIST\n",
        "- 적용 모델 : CNN\n",
        "- 핵심 : colab의 작업결과를 tensorboard로 보자.\n",
        "\n",
        "\n",
        "<br>\n",
        "\n",
        "# TensorBoard DEV\n",
        "\n",
        "tensorboard 로그를 tensorboard.dev로 업로드하고, tensorboard.dev에서 다음과 같은 url로 tensorboard를 볼 수 있다.\n",
        "\n",
        "https://tensorboard.dev/experiment/tvjqM3MBRTaPyzNlVojvOQ/\n",
        "\n",
        "\n",
        "<br>\n",
        "\n",
        "홈 : https://tensorboard.dev/\n",
        "\n",
        "\n",
        "<br>\n",
        "\n",
        "\n",
        "사용 법\n",
        "\n",
        "```\n",
        "$ pip install -U tensorboard\n",
        "\n",
        "\n",
        "# Upload an experiment:\n",
        "$ tensorboard dev upload --logdir logs \\\n",
        "    --name \"(optional) My latest experiment\" \\\n",
        "    --description \"(optional) Simple comparison of several hyperparameters\"\n",
        "\n",
        "***** TensorBoard Uploader *****\n",
        "\n",
        "This TensorBoard will be visible to everyone. Do not upload sensitive data.\n",
        "\n",
        "Continue? (yes/NO)\n",
        "\n",
        "Please visit this URL to authorize this application: https://accounts.google.com/o/oauth2/auth...\n",
        "\n",
        "Uploading to TensorBoard.dev at https://tensorboard.dev/experiment/EDZb7XgKSBKo6Gznh3i8hg\n",
        "\n",
        "```\n"
      ]
    },
    {
      "cell_type": "markdown",
      "metadata": {
        "id": "h3Nuf-G4xJ0u",
        "colab_type": "text"
      },
      "source": [
        "##### Copyright 2019 The TensorFlow Authors."
      ]
    },
    {
      "cell_type": "code",
      "metadata": {
        "cellView": "form",
        "id": "zZ81_4tLxSvd",
        "colab_type": "code",
        "colab": {}
      },
      "source": [
        "#@title Licensed under the Apache License, Version 2.0 (the \"License\");\n",
        "# you may not use this file except in compliance with the License.\n",
        "# You may obtain a copy of the License at\n",
        "#\n",
        "# https://www.apache.org/licenses/LICENSE-2.0\n",
        "#\n",
        "# Unless required by applicable law or agreed to in writing, software\n",
        "# distributed under the License is distributed on an \"AS IS\" BASIS,\n",
        "# WITHOUT WARRANTIES OR CONDITIONS OF ANY KIND, either express or implied.\n",
        "# See the License for the specific language governing permissions and\n",
        "# limitations under the License."
      ],
      "execution_count": 1,
      "outputs": []
    },
    {
      "cell_type": "markdown",
      "metadata": {
        "id": "wNBP_f0QUTfO",
        "colab_type": "text"
      },
      "source": [
        "# Getting started with [TensorBoard.dev](https://tensorboard.dev)"
      ]
    },
    {
      "cell_type": "markdown",
      "metadata": {
        "id": "DLXZ3t1PWdOp",
        "colab_type": "text"
      },
      "source": [
        "[TensorBoard.dev](https://tensorboard.dev) is a free, public [TensorBoard](https://tensorflow.org/tensorboard) service that enables you to upload and share your ML experiments with everyone.\n",
        "\n",
        "This notebook trains a simple model and shows how to upload the logs to TensorBoard.dev."
      ]
    },
    {
      "cell_type": "markdown",
      "metadata": {
        "id": "yjBn-ptXTppA",
        "colab_type": "text"
      },
      "source": [
        "### Setup and imports\n",
        "\n",
        "This notebook uses TensorBoard features which are only available for versions >= `2.3.0`."
      ]
    },
    {
      "cell_type": "code",
      "metadata": {
        "id": "L3ns52Luracm",
        "colab_type": "code",
        "colab": {}
      },
      "source": [
        "import tensorflow as tf\n",
        "import datetime\n",
        "from tensorboard.plugins.hparams import api as hp"
      ],
      "execution_count": 2,
      "outputs": []
    },
    {
      "cell_type": "markdown",
      "metadata": {
        "id": "GqUABmUTT1Cl",
        "colab_type": "text"
      },
      "source": [
        "### Train a simple model and create TensorBoard logs"
      ]
    },
    {
      "cell_type": "code",
      "metadata": {
        "id": "LZExSr2Qrc5S",
        "colab_type": "code",
        "colab": {
          "base_uri": "https://localhost:8080/",
          "height": 54
        },
        "outputId": "ec911f71-3e0b-4cff-9ca0-3aed0ebb1d78"
      },
      "source": [
        "mnist = tf.keras.datasets.mnist\n",
        "\n",
        "(x_train, y_train),(x_test, y_test) = mnist.load_data()\n",
        "x_train, x_test = x_train / 255.0, x_test / 255.0\n",
        "\n",
        "def create_model():\n",
        "  return tf.keras.models.Sequential([\n",
        "    tf.keras.layers.Flatten(input_shape=(28, 28)),\n",
        "    tf.keras.layers.Dense(512, activation='relu'),\n",
        "    tf.keras.layers.Dropout(0.2),\n",
        "    tf.keras.layers.Dense(10, activation='softmax')\n",
        "  ])"
      ],
      "execution_count": 3,
      "outputs": [
        {
          "output_type": "stream",
          "text": [
            "Downloading data from https://storage.googleapis.com/tensorflow/tf-keras-datasets/mnist.npz\n",
            "11493376/11490434 [==============================] - 0s 0us/step\n"
          ],
          "name": "stdout"
        }
      ]
    },
    {
      "cell_type": "markdown",
      "metadata": {
        "id": "FSv4C0dBrmAx",
        "colab_type": "text"
      },
      "source": [
        "TensorBoard logs are created during training by passing the [TensorBoard](https://www.tensorflow.org/tensorboard/get_started) and [hyperparameters callbacks](https://www.tensorflow.org/tensorboard/hyperparameter_tuning_with_hparams) to Keras' Model.fit(). These logs can then be uploaded to TensorBoard.dev.\n"
      ]
    },
    {
      "cell_type": "code",
      "metadata": {
        "id": "dsVjm5CrUtXm",
        "colab_type": "code",
        "colab": {
          "base_uri": "https://localhost:8080/",
          "height": 310
        },
        "outputId": "e368752b-f676-4468-9e5b-b5c3dfa83ef8"
      },
      "source": [
        "model = create_model()\n",
        "model.compile(\n",
        "    optimizer='adam',\n",
        "    loss='sparse_categorical_crossentropy',\n",
        "    metrics=['accuracy'])\n",
        "\n",
        "log_dir=\"logs/fit/\" + datetime.datetime.now().strftime(\"%Y%m%d-%H%M%S\")\n",
        "tensorboard_callback = tf.keras.callbacks.TensorBoard(\n",
        "    log_dir=log_dir, histogram_freq=1)\n",
        "hparams_callback = hp.KerasCallback(log_dir, {\n",
        "    'num_relu_units': 512,\n",
        "    'dropout': 0.2\n",
        "})\n",
        "\n",
        "model.fit(\n",
        "    x=x_train, \n",
        "    y=y_train, \n",
        "    epochs=5, \n",
        "    validation_data=(x_test, y_test), \n",
        "    callbacks=[tensorboard_callback, hparams_callback])"
      ],
      "execution_count": 4,
      "outputs": [
        {
          "output_type": "stream",
          "text": [
            "Epoch 1/5\n",
            "   1/1875 [..............................] - ETA: 0s - loss: 2.3605 - accuracy: 0.0938WARNING:tensorflow:From /usr/local/lib/python3.6/dist-packages/tensorflow/python/ops/summary_ops_v2.py:1277: stop (from tensorflow.python.eager.profiler) is deprecated and will be removed after 2020-07-01.\n",
            "Instructions for updating:\n",
            "use `tf.profiler.experimental.stop` instead.\n",
            "WARNING:tensorflow:Callbacks method `on_train_batch_end` is slow compared to the batch time (batch time: 0.0053s vs `on_train_batch_end` time: 0.0390s). Check your callbacks.\n",
            "1875/1875 [==============================] - 7s 4ms/step - loss: 0.2236 - accuracy: 0.9337 - val_loss: 0.1149 - val_accuracy: 0.9638\n",
            "Epoch 2/5\n",
            "1875/1875 [==============================] - 7s 4ms/step - loss: 0.0991 - accuracy: 0.9698 - val_loss: 0.0806 - val_accuracy: 0.9748\n",
            "Epoch 3/5\n",
            "1875/1875 [==============================] - 7s 4ms/step - loss: 0.0702 - accuracy: 0.9775 - val_loss: 0.0697 - val_accuracy: 0.9784\n",
            "Epoch 4/5\n",
            "1875/1875 [==============================] - 7s 4ms/step - loss: 0.0541 - accuracy: 0.9829 - val_loss: 0.0962 - val_accuracy: 0.9723\n",
            "Epoch 5/5\n",
            "1875/1875 [==============================] - 7s 4ms/step - loss: 0.0443 - accuracy: 0.9856 - val_loss: 0.0680 - val_accuracy: 0.9806\n"
          ],
          "name": "stdout"
        },
        {
          "output_type": "execute_result",
          "data": {
            "text/plain": [
              "<tensorflow.python.keras.callbacks.History at 0x7f57b85935c0>"
            ]
          },
          "metadata": {
            "tags": []
          },
          "execution_count": 4
        }
      ]
    },
    {
      "cell_type": "markdown",
      "metadata": {
        "id": "TgF35qdzIC3T",
        "colab_type": "text"
      },
      "source": [
        "### (Jupyter only)  Authorize TensorBoard.dev\n",
        "\n",
        "**This step is not necessary in Colab**\n",
        "\n",
        "This step requires you to auth in your shell console, outside of Jupyter.  In your console, execute the following command.\n",
        "\n",
        "`tensorboard dev list`\n",
        "\n",
        "As part of this flow, you will be provided with an authorization code. This code is required to consent to the Terms of Service."
      ]
    },
    {
      "cell_type": "markdown",
      "metadata": {
        "id": "oKW8V5chyx6e",
        "colab_type": "text"
      },
      "source": [
        "### Upload to TensorBoard.dev\n",
        "\n",
        "Uploading the TensorBoard logs will give you a URL that can be shared with anyone.\n",
        "\n",
        "Uploaded TensorBoards are public, so do not upload sensitive data.\n",
        "\n",
        "The uploader will exit when the entire logdir has uploaded.  (This is what the `--one_shot` flag specifies.)"
      ]
    },
    {
      "cell_type": "code",
      "metadata": {
        "id": "n2PvxhOkW7vn",
        "colab_type": "code",
        "colab": {
          "base_uri": "https://localhost:8080/",
          "height": 710
        },
        "outputId": "9108486c-7e53-45ba-bd20-b4adf786bec4"
      },
      "source": [
        "!tensorboard dev upload --logdir ./logs \\\n",
        "  --name \"Simple experiment with MNIST\" \\\n",
        "  --description \"Training results from https://colab.sandbox.google.com/github/tensorflow/tensorboard/blob/master/docs/tbdev_getting_started.ipynb\" \\\n",
        "  --one_shot"
      ],
      "execution_count": 5,
      "outputs": [
        {
          "output_type": "stream",
          "text": [
            "2020-09-24 17:45:14.880015: I tensorflow/stream_executor/platform/default/dso_loader.cc:48] Successfully opened dynamic library libcudart.so.10.1\n",
            "\n",
            "***** TensorBoard Uploader *****\n",
            "\n",
            "This will upload your TensorBoard logs to https://tensorboard.dev/ from\n",
            "the following directory:\n",
            "\n",
            "./logs\n",
            "\n",
            "This TensorBoard will be visible to everyone. Do not upload sensitive\n",
            "data.\n",
            "\n",
            "Your use of this service is subject to Google's Terms of Service\n",
            "<https://policies.google.com/terms> and Privacy Policy\n",
            "<https://policies.google.com/privacy>, and TensorBoard.dev's Terms of Service\n",
            "<https://tensorboard.dev/policy/terms/>.\n",
            "\n",
            "This notice will not be shown again while you are logged into the uploader.\n",
            "To log out, run `tensorboard dev auth revoke`.\n",
            "\n",
            "Continue? (yes/NO) yes\n",
            "\n",
            "Please visit this URL to authorize this application: https://accounts.google.com/o/oauth2/auth?response_type=code&client_id=373649185512-8v619h5kft38l4456nm2dj4ubeqsrvh6.apps.googleusercontent.com&redirect_uri=urn%3Aietf%3Awg%3Aoauth%3A2.0%3Aoob&scope=openid+https%3A%2F%2Fwww.googleapis.com%2Fauth%2Fuserinfo.email&state=NekO1Ta2VMnwnux9oKpurTyCAYQIfC&prompt=consent&access_type=offline\n",
            "Enter the authorization code: 4/4gG6bnGxrubiqfcZYpCm_eIH5L2bga4mF91OO26TNNEEA9EZa-LzK5U\n",
            "\n",
            "Data for the \"graphs\" plugin is now uploaded to TensorBoard.dev! Note that uploaded data is public. If you do not want to upload data for this plugin, use the \"--plugins\" command line argument.\n",
            "Data for the \"histograms\" plugin is now uploaded to TensorBoard.dev! Note that uploaded data is public. If you do not want to upload data for this plugin, use the \"--plugins\" command line argument.\n",
            "Data for the \"hparams\" plugin is now uploaded to TensorBoard.dev! Note that uploaded data is public. If you do not want to upload data for this plugin, use the \"--plugins\" command line argument.\n",
            "Upload started and will continue reading any new data as it's added\n",
            "to the logdir. To stop uploading, press Ctrl-C.\n",
            "\n",
            "View your TensorBoard live at: https://tensorboard.dev/experiment/tvjqM3MBRTaPyzNlVojvOQ/\n",
            "\n",
            "\u001b[1m[2020-09-24T17:45:42]\u001b[0m Uploader started.\n",
            "\u001b[1m[2020-09-24T17:45:44]\u001b[0m Total uploaded: 20 scalars, 22 tensors (33.5 kB), 1 binary objects (4.8 kB)\n",
            "\u001b[2K\u001b[33mListening for new data in logdir...\u001b[0m\n",
            "Done. View your TensorBoard at https://tensorboard.dev/experiment/tvjqM3MBRTaPyzNlVojvOQ/\n"
          ],
          "name": "stdout"
        }
      ]
    },
    {
      "cell_type": "markdown",
      "metadata": {
        "id": "5QH5k4AUNE27",
        "colab_type": "text"
      },
      "source": [
        "Each individual upload has a unique experiment ID. This means that if you start a new upload with the same directory, you will get a new experiment ID.\n",
        "You can list all the experiments you have uploaded using \n",
        "```\n",
        "tensorboard dev list\n",
        "```"
      ]
    },
    {
      "cell_type": "code",
      "metadata": {
        "id": "C2Pj3RQCNQvP",
        "colab_type": "code",
        "colab": {
          "base_uri": "https://localhost:8080/",
          "height": 328
        },
        "outputId": "40cfbc3c-095e-4172-99f1-406e0c7c92f3"
      },
      "source": [
        "!tensorboard dev list"
      ],
      "execution_count": 6,
      "outputs": [
        {
          "output_type": "stream",
          "text": [
            "2020-09-24 17:45:46.122802: I tensorflow/stream_executor/platform/default/dso_loader.cc:48] Successfully opened dynamic library libcudart.so.10.1\n",
            "Data for the \"graphs\" plugin is now uploaded to TensorBoard.dev! Note that uploaded data is public. If you do not want to upload data for this plugin, use the \"--plugins\" command line argument.\n",
            "Data for the \"histograms\" plugin is now uploaded to TensorBoard.dev! Note that uploaded data is public. If you do not want to upload data for this plugin, use the \"--plugins\" command line argument.\n",
            "Data for the \"hparams\" plugin is now uploaded to TensorBoard.dev! Note that uploaded data is public. If you do not want to upload data for this plugin, use the \"--plugins\" command line argument.\n",
            "https://tensorboard.dev/experiment/tvjqM3MBRTaPyzNlVojvOQ/\n",
            "\tName                 Simple experiment with MNIST\n",
            "\tDescription          Training results from https://colab.sandbox.google.com/github/tensorflow/tensorboard/blob/master/docs/tbdev_getting_started.ipynb\n",
            "\tId                   tvjqM3MBRTaPyzNlVojvOQ\n",
            "\tCreated              2020-09-24 17:45:42 (8 seconds ago)\n",
            "\tUpdated              2020-09-24 17:45:44 (6 seconds ago)\n",
            "\tRuns                 3\n",
            "\tTags                 9\n",
            "\tScalars              20\n",
            "\tTensor bytes         36090\n",
            "\tBinary object bytes  5034\n",
            "Total: 1 experiment(s)\n"
          ],
          "name": "stdout"
        }
      ]
    },
    {
      "cell_type": "markdown",
      "metadata": {
        "id": "NyJsD3Ypyx6m",
        "colab_type": "text"
      },
      "source": [
        "### Screenshot of TensorBoard.dev\n",
        "\n",
        "This is what it will look like when you navigate to your new experiment on TensorBoard.dev.\n",
        "\n",
        "![screenshot of TensorBoard.dev](images/tbdev_getting_started.png \"TensorBoard.dev screenshot\")"
      ]
    },
    {
      "cell_type": "markdown",
      "metadata": {
        "id": "JcZOGmjQNWk_",
        "colab_type": "text"
      },
      "source": [
        "### Deleting your TensorBoard.dev experiment\n",
        "\n",
        "To remove an experiment you have uploaded, use the `delete` command and specify the appropriate `experiment_id`.\n",
        "In the above screenshot, the experiment_id is listed in the bottom left corner: `w1lkBAOrR4eH35Y7Lg1DQQ`."
      ]
    },
    {
      "cell_type": "code",
      "metadata": {
        "id": "VSkJTT9rNWJq",
        "colab_type": "code",
        "colab": {}
      },
      "source": [
        "# You must replace YOUR_EXPERIMENT_ID with the value output from the previous\n",
        "# tensorboard `list` command or `upload` command.  For example\n",
        "# `tensorboard dev delete --experiment_id pQpJNh00RG2Lf1zOe9BrQA`\n",
        "\n",
        "## !tensorboard dev delete --experiment_id YOUR_EXPERIMENT_ID_HERE"
      ],
      "execution_count": 7,
      "outputs": []
    }
  ]
}